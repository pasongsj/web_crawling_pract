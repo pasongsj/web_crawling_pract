{
 "cells": [
  {
   "cell_type": "code",
   "execution_count": 1,
   "id": "e7c64893",
   "metadata": {},
   "outputs": [],
   "source": [
    "from selenium import webdriver\n",
    "from selenium.webdriver.common.keys import Keys\n",
    "from selenium.webdriver.common.by import By\n",
    "from selenium.webdriver.support.ui import WebDriverWait\n",
    "from selenium.webdriver.support import expected_conditions as EC\n",
    "import pandas as pd\n",
    "import openpyxl\n",
    "\n",
    "options = webdriver.ChromeOptions()\n",
    "options.add_argument('headless')\n",
    "#options.add_argument('window_size=1920x1080')\n",
    "#options.add_argument('disable-gpu')\n",
    "\n",
    "LIMIT = 1"
   ]
  },
  {
   "cell_type": "code",
   "execution_count": 2,
   "id": "cfe137fd",
   "metadata": {},
   "outputs": [],
   "source": [
    "def get_stack(d_url):\n",
    "    \n",
    "    d_browser = webdriver.Chrome(\"/usr/local/bin/chromedriver\")#,chrome_options=options);\n",
    "    d_browser.get(d_url)\n",
    "\n",
    "    d_browser.implicitly_wait(2)\n",
    "    #d_browser.execute_script(\"window.scrollTo(0,30)\")\n",
    "    \n",
    "    \n",
    "    tag_sec = d_browser.find_element(By.CSS_SELECTOR,'.tags')\n",
    "    stacks = tag_sec.find_element(By.CSS_SELECTOR,'.scroll')\n",
    "    tmps = stacks.find_elements(By.TAG_NAME, 'a')\n",
    "    stack = []\n",
    "    for tmp in tmps:\n",
    "        url = tmp.get_attribute('href')\n",
    "        index = url.find('kewd')\n",
    "        if(index != -1):\n",
    "            stack.append(url[index+5:])\n",
    "    d_browser.quit()\n",
    "    return stack\n",
    "    "
   ]
  },
  {
   "cell_type": "code",
   "execution_count": 3,
   "id": "9c4c3310",
   "metadata": {},
   "outputs": [],
   "source": [
    "\n",
    "def get_info(pages):\n",
    "    \n",
    "    global LIMIT\n",
    "    \n",
    "    URL = \"https://www.saramin.co.kr/zf_user/jobs/list/job-category?cat_mcls=2&sort=RD&page=\"+str(pages)\n",
    "    \n",
    "    browser = webdriver.Chrome(\"/usr/local/bin/chromedriver\")#,chrome_options = options);\t#chromedriver 위치\n",
    "    browser.get(URL);\t# 페이지 열기\n",
    "    browser.implicitly_wait(2)\n",
    "    \n",
    "    \n",
    "    if (pages == 1):\n",
    "        list_ = browser.find_element(By.CSS_SELECTOR,'.common_recruilt_list')\n",
    "        items = list_.find_elements(By.CSS_SELECTOR,'.list_item')\n",
    "    else:\n",
    "        items = browser.find_elements(By.CSS_SELECTOR,'.list_item')\n",
    "    \n",
    "    \n",
    "    ann_list = []\n",
    "\n",
    "    for item in items:\n",
    "        #id\n",
    "        idx = item.get_attribute('id')[4:]\n",
    "        D_URL = 'https://www.saramin.co.kr/zf_user/jobs/relay/view?rec_idx='+idx\n",
    "        #stack = []\n",
    "        stack = get_stack(D_URL)\n",
    "        # 회사\n",
    "        company = item.find_element(By.CSS_SELECTOR,\".company_nm\").find_element(By.TAG_NAME, 'a').text\n",
    "    \n",
    "        # 제목\n",
    "        title = item.find_element(By.CSS_SELECTOR,\".notification_info\").find_element(By.TAG_NAME, 'a').text\n",
    "    \n",
    "        # 경력\n",
    "        career = item.find_element(By.CSS_SELECTOR,\".career\").text\n",
    "    \n",
    "        # 학력\n",
    "        education = item.find_element(By.CSS_SELECTOR,\".education\").text\n",
    "    \n",
    "        # 근무형태\n",
    "        employment_type = item.find_element(By.CSS_SELECTOR,\".employment_type\").text\n",
    "    \n",
    "        # 근무 위치\n",
    "        try:\n",
    "            work_place = item.find_element(By.CSS_SELECTOR,\".work_place\").text\n",
    "        except Exception as e:\n",
    "            place = None\n",
    "        \n",
    "        #마감일,등록일\n",
    "        time = item.find_element(By.CSS_SELECTOR,\".deadlines\").text.split('\\n')\n",
    "        deadline = time[0]\n",
    "        reg_date = time[1]\n",
    "        #print(reg_date)\n",
    "        if(reg_date == '(1일 전 등록)'):\n",
    "            LIMIT = 0\n",
    "            return ann_list\n",
    "        info = {'company' : company, 'title' : title, 'stack': stack, 'career' : career, \n",
    "            'education' : education, 'em_type' : employment_type, 'work_place':work_place, 'deadeline' : deadline }\n",
    "        ann_list.append(info)\n",
    "        \n",
    "    browser.quit()\n",
    "    return ann_list\n"
   ]
  },
  {
   "cell_type": "code",
   "execution_count": 4,
   "id": "bc9401c0",
   "metadata": {},
   "outputs": [],
   "source": [
    "def main():\n",
    "    global LIMIT\n",
    "    info = []\n",
    "    pages = 1\n",
    "    #browser = webdriver.Chrome(\"/usr/local/bin/chromedriver\")#,chrome_options = options);\t#chromedriver 위치\n",
    "    while(LIMIT):\n",
    "        #URL = \"https://www.saramin.co.kr/zf_user/jobs/list/job-category?cat_mcls=2&sort=RD&page=\"+str(pages)\n",
    "        \n",
    "        info.extend(get_info(pages))\n",
    "        pages = pages + 1\n",
    "\n",
    "\n",
    "    return info\n",
    "    \n",
    "    "
   ]
  },
  {
   "cell_type": "code",
   "execution_count": 5,
   "id": "50535e06",
   "metadata": {},
   "outputs": [
    {
     "name": "stderr",
     "output_type": "stream",
     "text": [
      "/var/folders/8l/z4qr6xns7sb_mbw_25xwx0cm0000gn/T/ipykernel_27873/2617069294.py:7: DeprecationWarning: executable_path has been deprecated, please pass in a Service object\n",
      "  browser = webdriver.Chrome(\"/usr/local/bin/chromedriver\",chrome_options = options);\t#chromedriver 위치\n",
      "/var/folders/8l/z4qr6xns7sb_mbw_25xwx0cm0000gn/T/ipykernel_27873/2617069294.py:7: DeprecationWarning: use options instead of chrome_options\n",
      "  browser = webdriver.Chrome(\"/usr/local/bin/chromedriver\",chrome_options = options);\t#chromedriver 위치\n"
     ]
    },
    {
     "ename": "NoSuchElementException",
     "evalue": "Message: no such element: Unable to locate element: {\"method\":\"css selector\",\"selector\":\".common_recruilt_list\"}\n  (Session info: headless chrome=98.0.4758.80)\nStacktrace:\n0   chromedriver                        0x000000010895ae69 chromedriver + 5160553\n1   chromedriver                        0x00000001088e5593 chromedriver + 4679059\n2   chromedriver                        0x00000001084992c8 chromedriver + 172744\n3   chromedriver                        0x00000001084ceb62 chromedriver + 392034\n4   chromedriver                        0x00000001084ced21 chromedriver + 392481\n5   chromedriver                        0x0000000108501304 chromedriver + 598788\n6   chromedriver                        0x00000001084ec3fd chromedriver + 513021\n7   chromedriver                        0x00000001084ff0ab chromedriver + 589995\n8   chromedriver                        0x00000001084ec623 chromedriver + 513571\n9   chromedriver                        0x00000001084c1dce chromedriver + 339406\n10  chromedriver                        0x00000001084c3105 chromedriver + 344325\n11  chromedriver                        0x000000010891623e chromedriver + 4878910\n12  chromedriver                        0x000000010892dd17 chromedriver + 4975895\n13  chromedriver                        0x0000000108933a3f chromedriver + 4999743\n14  chromedriver                        0x000000010892e61a chromedriver + 4978202\n15  chromedriver                        0x000000010890abb1 chromedriver + 4832177\n16  chromedriver                        0x000000010894afd8 chromedriver + 5095384\n17  chromedriver                        0x000000010894b161 chromedriver + 5095777\n18  chromedriver                        0x00000001089622a8 chromedriver + 5190312\n19  libsystem_pthread.dylib             0x00007ff80144b4f4 _pthread_start + 125\n20  libsystem_pthread.dylib             0x00007ff80144700f thread_start + 15\n",
     "output_type": "error",
     "traceback": [
      "\u001b[0;31m---------------------------------------------------------------------------\u001b[0m",
      "\u001b[0;31mNoSuchElementException\u001b[0m                    Traceback (most recent call last)",
      "Input \u001b[0;32mIn [5]\u001b[0m, in \u001b[0;36m<module>\u001b[0;34m\u001b[0m\n\u001b[0;32m----> 1\u001b[0m data \u001b[38;5;241m=\u001b[39m pd\u001b[38;5;241m.\u001b[39mDataFrame(\u001b[43mmain\u001b[49m\u001b[43m(\u001b[49m\u001b[43m)\u001b[49m)\n",
      "Input \u001b[0;32mIn [4]\u001b[0m, in \u001b[0;36mmain\u001b[0;34m()\u001b[0m\n\u001b[1;32m      5\u001b[0m \u001b[38;5;66;03m#browser = webdriver.Chrome(\"/usr/local/bin/chromedriver\")#,chrome_options = options);\t#chromedriver 위치\u001b[39;00m\n\u001b[1;32m      6\u001b[0m \u001b[38;5;28;01mwhile\u001b[39;00m(LIMIT):\n\u001b[1;32m      7\u001b[0m     \u001b[38;5;66;03m#URL = \"https://www.saramin.co.kr/zf_user/jobs/list/job-category?cat_mcls=2&sort=RD&page=\"+str(pages)\u001b[39;00m\n\u001b[0;32m----> 9\u001b[0m     info\u001b[38;5;241m.\u001b[39mextend(\u001b[43mget_info\u001b[49m\u001b[43m(\u001b[49m\u001b[43mpages\u001b[49m\u001b[43m)\u001b[49m)\n\u001b[1;32m     10\u001b[0m     pages \u001b[38;5;241m=\u001b[39m pages \u001b[38;5;241m+\u001b[39m \u001b[38;5;241m1\u001b[39m\n\u001b[1;32m     11\u001b[0m     LIMIT \u001b[38;5;241m=\u001b[39m \u001b[38;5;241m0\u001b[39m\n",
      "Input \u001b[0;32mIn [3]\u001b[0m, in \u001b[0;36mget_info\u001b[0;34m(pages)\u001b[0m\n\u001b[1;32m     10\u001b[0m browser\u001b[38;5;241m.\u001b[39mexecute_script(\u001b[38;5;124m\"\u001b[39m\u001b[38;5;124mwindow.scrollTo(0,30)\u001b[39m\u001b[38;5;124m\"\u001b[39m)\n\u001b[1;32m     12\u001b[0m \u001b[38;5;28;01mif\u001b[39;00m (pages \u001b[38;5;241m==\u001b[39m \u001b[38;5;241m1\u001b[39m):\n\u001b[0;32m---> 13\u001b[0m     list_ \u001b[38;5;241m=\u001b[39m \u001b[43mbrowser\u001b[49m\u001b[38;5;241;43m.\u001b[39;49m\u001b[43mfind_element\u001b[49m\u001b[43m(\u001b[49m\u001b[43mBy\u001b[49m\u001b[38;5;241;43m.\u001b[39;49m\u001b[43mCSS_SELECTOR\u001b[49m\u001b[43m,\u001b[49m\u001b[38;5;124;43m'\u001b[39;49m\u001b[38;5;124;43m.common_recruilt_list\u001b[39;49m\u001b[38;5;124;43m'\u001b[39;49m\u001b[43m)\u001b[49m\n\u001b[1;32m     14\u001b[0m     items \u001b[38;5;241m=\u001b[39m list_\u001b[38;5;241m.\u001b[39mfind_elements(By\u001b[38;5;241m.\u001b[39mCSS_SELECTOR,\u001b[38;5;124m'\u001b[39m\u001b[38;5;124m.list_item\u001b[39m\u001b[38;5;124m'\u001b[39m)\n\u001b[1;32m     15\u001b[0m \u001b[38;5;28;01melse\u001b[39;00m:\n",
      "File \u001b[0;32m/Library/Frameworks/Python.framework/Versions/3.9/lib/python3.9/site-packages/selenium/webdriver/remote/webdriver.py:1244\u001b[0m, in \u001b[0;36mWebDriver.find_element\u001b[0;34m(self, by, value)\u001b[0m\n\u001b[1;32m   1241\u001b[0m     by \u001b[38;5;241m=\u001b[39m By\u001b[38;5;241m.\u001b[39mCSS_SELECTOR\n\u001b[1;32m   1242\u001b[0m     value \u001b[38;5;241m=\u001b[39m \u001b[38;5;124m'\u001b[39m\u001b[38;5;124m[name=\u001b[39m\u001b[38;5;124m\"\u001b[39m\u001b[38;5;132;01m%s\u001b[39;00m\u001b[38;5;124m\"\u001b[39m\u001b[38;5;124m]\u001b[39m\u001b[38;5;124m'\u001b[39m \u001b[38;5;241m%\u001b[39m value\n\u001b[0;32m-> 1244\u001b[0m \u001b[38;5;28;01mreturn\u001b[39;00m \u001b[38;5;28;43mself\u001b[39;49m\u001b[38;5;241;43m.\u001b[39;49m\u001b[43mexecute\u001b[49m\u001b[43m(\u001b[49m\u001b[43mCommand\u001b[49m\u001b[38;5;241;43m.\u001b[39;49m\u001b[43mFIND_ELEMENT\u001b[49m\u001b[43m,\u001b[49m\u001b[43m \u001b[49m\u001b[43m{\u001b[49m\n\u001b[1;32m   1245\u001b[0m \u001b[43m    \u001b[49m\u001b[38;5;124;43m'\u001b[39;49m\u001b[38;5;124;43musing\u001b[39;49m\u001b[38;5;124;43m'\u001b[39;49m\u001b[43m:\u001b[49m\u001b[43m \u001b[49m\u001b[43mby\u001b[49m\u001b[43m,\u001b[49m\n\u001b[1;32m   1246\u001b[0m \u001b[43m    \u001b[49m\u001b[38;5;124;43m'\u001b[39;49m\u001b[38;5;124;43mvalue\u001b[39;49m\u001b[38;5;124;43m'\u001b[39;49m\u001b[43m:\u001b[49m\u001b[43m \u001b[49m\u001b[43mvalue\u001b[49m\u001b[43m}\u001b[49m\u001b[43m)\u001b[49m[\u001b[38;5;124m'\u001b[39m\u001b[38;5;124mvalue\u001b[39m\u001b[38;5;124m'\u001b[39m]\n",
      "File \u001b[0;32m/Library/Frameworks/Python.framework/Versions/3.9/lib/python3.9/site-packages/selenium/webdriver/remote/webdriver.py:424\u001b[0m, in \u001b[0;36mWebDriver.execute\u001b[0;34m(self, driver_command, params)\u001b[0m\n\u001b[1;32m    422\u001b[0m response \u001b[38;5;241m=\u001b[39m \u001b[38;5;28mself\u001b[39m\u001b[38;5;241m.\u001b[39mcommand_executor\u001b[38;5;241m.\u001b[39mexecute(driver_command, params)\n\u001b[1;32m    423\u001b[0m \u001b[38;5;28;01mif\u001b[39;00m response:\n\u001b[0;32m--> 424\u001b[0m     \u001b[38;5;28;43mself\u001b[39;49m\u001b[38;5;241;43m.\u001b[39;49m\u001b[43merror_handler\u001b[49m\u001b[38;5;241;43m.\u001b[39;49m\u001b[43mcheck_response\u001b[49m\u001b[43m(\u001b[49m\u001b[43mresponse\u001b[49m\u001b[43m)\u001b[49m\n\u001b[1;32m    425\u001b[0m     response[\u001b[38;5;124m'\u001b[39m\u001b[38;5;124mvalue\u001b[39m\u001b[38;5;124m'\u001b[39m] \u001b[38;5;241m=\u001b[39m \u001b[38;5;28mself\u001b[39m\u001b[38;5;241m.\u001b[39m_unwrap_value(\n\u001b[1;32m    426\u001b[0m         response\u001b[38;5;241m.\u001b[39mget(\u001b[38;5;124m'\u001b[39m\u001b[38;5;124mvalue\u001b[39m\u001b[38;5;124m'\u001b[39m, \u001b[38;5;28;01mNone\u001b[39;00m))\n\u001b[1;32m    427\u001b[0m     \u001b[38;5;28;01mreturn\u001b[39;00m response\n",
      "File \u001b[0;32m/Library/Frameworks/Python.framework/Versions/3.9/lib/python3.9/site-packages/selenium/webdriver/remote/errorhandler.py:247\u001b[0m, in \u001b[0;36mErrorHandler.check_response\u001b[0;34m(self, response)\u001b[0m\n\u001b[1;32m    245\u001b[0m         alert_text \u001b[38;5;241m=\u001b[39m value[\u001b[38;5;124m'\u001b[39m\u001b[38;5;124malert\u001b[39m\u001b[38;5;124m'\u001b[39m]\u001b[38;5;241m.\u001b[39mget(\u001b[38;5;124m'\u001b[39m\u001b[38;5;124mtext\u001b[39m\u001b[38;5;124m'\u001b[39m)\n\u001b[1;32m    246\u001b[0m     \u001b[38;5;28;01mraise\u001b[39;00m exception_class(message, screen, stacktrace, alert_text)  \u001b[38;5;66;03m# type: ignore[call-arg]  # mypy is not smart enough here\u001b[39;00m\n\u001b[0;32m--> 247\u001b[0m \u001b[38;5;28;01mraise\u001b[39;00m exception_class(message, screen, stacktrace)\n",
      "\u001b[0;31mNoSuchElementException\u001b[0m: Message: no such element: Unable to locate element: {\"method\":\"css selector\",\"selector\":\".common_recruilt_list\"}\n  (Session info: headless chrome=98.0.4758.80)\nStacktrace:\n0   chromedriver                        0x000000010895ae69 chromedriver + 5160553\n1   chromedriver                        0x00000001088e5593 chromedriver + 4679059\n2   chromedriver                        0x00000001084992c8 chromedriver + 172744\n3   chromedriver                        0x00000001084ceb62 chromedriver + 392034\n4   chromedriver                        0x00000001084ced21 chromedriver + 392481\n5   chromedriver                        0x0000000108501304 chromedriver + 598788\n6   chromedriver                        0x00000001084ec3fd chromedriver + 513021\n7   chromedriver                        0x00000001084ff0ab chromedriver + 589995\n8   chromedriver                        0x00000001084ec623 chromedriver + 513571\n9   chromedriver                        0x00000001084c1dce chromedriver + 339406\n10  chromedriver                        0x00000001084c3105 chromedriver + 344325\n11  chromedriver                        0x000000010891623e chromedriver + 4878910\n12  chromedriver                        0x000000010892dd17 chromedriver + 4975895\n13  chromedriver                        0x0000000108933a3f chromedriver + 4999743\n14  chromedriver                        0x000000010892e61a chromedriver + 4978202\n15  chromedriver                        0x000000010890abb1 chromedriver + 4832177\n16  chromedriver                        0x000000010894afd8 chromedriver + 5095384\n17  chromedriver                        0x000000010894b161 chromedriver + 5095777\n18  chromedriver                        0x00000001089622a8 chromedriver + 5190312\n19  libsystem_pthread.dylib             0x00007ff80144b4f4 _pthread_start + 125\n20  libsystem_pthread.dylib             0x00007ff80144700f thread_start + 15\n"
     ]
    }
   ],
   "source": [
    "data = pd.DataFrame(main())"
   ]
  },
  {
   "cell_type": "markdown",
   "id": "302144fc",
   "metadata": {},
   "source": []
  },
  {
   "cell_type": "code",
   "execution_count": null,
   "id": "b4949408",
   "metadata": {},
   "outputs": [],
   "source": [
    "print(data)\n"
   ]
  },
  {
   "cell_type": "code",
   "execution_count": null,
   "id": "2103ba62",
   "metadata": {},
   "outputs": [],
   "source": [
    "import openpyxl\n",
    "data.to_excel('220209_2.xlsx')\n"
   ]
  },
  {
   "cell_type": "code",
   "execution_count": null,
   "id": "78e6ddde",
   "metadata": {},
   "outputs": [],
   "source": []
  }
 ],
 "metadata": {
  "kernelspec": {
   "display_name": "Python 3 (ipykernel)",
   "language": "python",
   "name": "python3"
  },
  "language_info": {
   "codemirror_mode": {
    "name": "ipython",
    "version": 3
   },
   "file_extension": ".py",
   "mimetype": "text/x-python",
   "name": "python",
   "nbconvert_exporter": "python",
   "pygments_lexer": "ipython3",
   "version": "3.9.0"
  }
 },
 "nbformat": 4,
 "nbformat_minor": 5
}
