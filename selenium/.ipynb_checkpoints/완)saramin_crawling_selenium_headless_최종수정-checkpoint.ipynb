{
 "cells": [
  {
   "cell_type": "code",
   "execution_count": 1,
   "id": "e7c64893",
   "metadata": {},
   "outputs": [],
   "source": [
    "from selenium import webdriver\n",
    "from selenium.webdriver.common.by import By\n",
    "\n",
    "#데이터 처리\n",
    "from datetime import datetime\n",
    "import pandas as pd\n",
    "import openpyxl\n",
    "import time\n",
    "start = time.time()\n",
    "\n",
    "#명시적대기 headless \n",
    "from selenium.webdriver.support.ui import WebDriverWait\n",
    "from selenium.webdriver.support import expected_conditions as EC\n",
    "\n",
    "options = webdriver.ChromeOptions()\n",
    "options.add_argument('headless')\n",
    "options.add_argument('user-agent=Mozilla/5.0 (Macintosh; Intel Mac OS X 10_15_7) AppleWebKit/537.36 (KHTML, like Gecko) Chrome/98.0.4758.80 Safari/537.36')\n",
    "\n",
    "#options.add_argument('window_size=1920x1080')\n",
    "#options.add_argument('--disable-gpu')\n",
    "\n",
    "#LIMIT = 1"
   ]
  },
  {
   "cell_type": "code",
   "execution_count": 2,
   "id": "9c4c3310",
   "metadata": {},
   "outputs": [],
   "source": [
    "def get_info(pages):\n",
    "    \n",
    "    #global LIMIT\n",
    "    \n",
    "    browser = webdriver.Chrome(\"/usr/local/bin/chromedriver\",chrome_options = options);\t#chromedriver 위치\n",
    "    \n",
    "    url = 'https://www.saramin.co.kr/zf_user/jobs/list/job-category?cat_mcls=2&panel_type=&search_optional_item=n&search_done=y&panel_count=y&sort=RD&tab_type=all&searchParamCount=1&recruit_kind=recruit&quick_apply=y&page='+str(pages)\n",
    "\n",
    "\n",
    "    browser.get(url);\t# 페이지 열기\n",
    "    browser.implicitly_wait(2)\n",
    "    #browser.execute_script(\"window.scrollTo(0,30)\")\n",
    "    \n",
    "    wait = WebDriverWait(browser,20)\n",
    "    element = wait.until(EC.presence_of_element_located((By.CSS_SELECTOR,'.common_recruilt_list')))\n",
    "    \n",
    "    list_ = browser.find_element(By.CSS_SELECTOR,'.common_recruilt_list')\n",
    "    items = list_.find_elements(By.CSS_SELECTOR,'.list_item')\n",
    "\n",
    "    ann_list = []\n",
    "    for item in items:\n",
    "\n",
    "        #id\n",
    "        idx = str(item.get_attribute('id')[4:])\n",
    "\n",
    "        #stack = [] #빈 스택 생성\n",
    "\n",
    "        # 회사\n",
    "        company = item.find_element(By.CSS_SELECTOR,\".company_nm\").find_element(By.TAG_NAME, 'a').text\n",
    "    \n",
    "        # 제목\n",
    "        title = item.find_element(By.CSS_SELECTOR,\".notification_info\").find_element(By.TAG_NAME, 'a').text\n",
    "    \n",
    "        # 경력\n",
    "        career = item.find_element(By.CSS_SELECTOR,\".career\").text\n",
    "    \n",
    "        # 학력\n",
    "        education = item.find_element(By.CSS_SELECTOR,\".education\").text\n",
    "    \n",
    "        # 근무형태\n",
    "        employment_type = item.find_element(By.CSS_SELECTOR,\".employment_type\").text\n",
    "    \n",
    "        # 근무 위치\n",
    "        try:\n",
    "            work_place = item.find_element(By.CSS_SELECTOR,\".work_place\").text\n",
    "        except Exception as e:# 위치 등록을 하지 않은 경우\n",
    "            place = None\n",
    "        \n",
    "        #마감일,등록일\n",
    "        time = item.find_element(By.CSS_SELECTOR,\".deadlines\").text.split('\\n')\n",
    "        \n",
    "        #마감\n",
    "        deadline = time[0]\n",
    "        #등록\n",
    "        reg_date = time[1]\n",
    "        \n",
    "        pos = deadline.find('~')# datetype 으로 deadline\n",
    "        if(pos != -1):\n",
    "            deadline = datetime.strptime('2022/' + deadline[pos+2:pos+7]+'/14:59:59','%Y/%m/%d/%H:%M:%S')\n",
    "    \n",
    "        \n",
    "        \n",
    "        #오늘 공고만\n",
    "        \n",
    "        info = {'title':title, 'company':company, 'career':career, 'education':education,\n",
    "                'employment_type' :employment_type,  'workc_place':work_place,\n",
    "                'idx':idx,'deadline': deadline, 'reg':reg_date}\n",
    "        ann_list.append(info)\n",
    "        if(reg_date == '(1일 전 등록)'):\n",
    "            #LIMIT = 0\n",
    "            browser.quit()\n",
    "            return ann_list\n",
    "        \n",
    "    \n",
    "    \n",
    "    browser.quit()\n",
    "    return ann_list\n"
   ]
  },
  {
   "cell_type": "code",
   "execution_count": 3,
   "id": "cfe137fd",
   "metadata": {},
   "outputs": [],
   "source": [
    "def get_stack(info):\n",
    "    \n",
    "    errorPage = 'https://www.saramin.co.kr/zf_user/recruit/inspection-view'\n",
    "    d_browser = webdriver.Chrome(\"/usr/local/bin/chromedriver\",chrome_options=options);\n",
    "    d_browser.implicitly_wait(2)\n",
    "    \n",
    "    for e_info in info:\n",
    "        d_url = 'https://www.saramin.co.kr/zf_user/jobs/relay/view?rec_idx='+e_info['idx']\n",
    "        #페이지 접속\n",
    "        d_browser.get(d_url)\n",
    "        #오류제거\n",
    "        stack = []\n",
    "        if(d_browser.current_url == errorPage):\n",
    "            pass\n",
    "        else:\n",
    "        #try: #페이가 준비중인 경우\n",
    "            wait = WebDriverWait(d_browser,50)\n",
    "            element = wait.until(EC.presence_of_element_located((By.CSS_SELECTOR,'.tags')))\n",
    "        #except TimeoutExceoption:\n",
    "         #   e_info[\"stack\"] = stack\n",
    "          #  pass\n",
    "            #tag접근\n",
    "            tag_sec = d_browser.find_element(By.CSS_SELECTOR,'.tags')\n",
    "            stacks = tag_sec.find_element(By.CSS_SELECTOR,'.scroll')\n",
    "            tmps = stacks.find_elements(By.TAG_NAME, 'a')\n",
    "            #모든 태크 모으기\n",
    "            for tmp in tmps:\n",
    "                url = tmp.get_attribute('href')\n",
    "                index = url.find('kewd')\n",
    "                if(index != -1):\n",
    "                    stack.append(url[index+5:])\n",
    "            \n",
    "        e_info[\"stack\"] = stack\n",
    "\n",
    "    d_browser.quit()\n",
    "    return info"
   ]
  },
  {
   "cell_type": "code",
   "execution_count": 4,
   "id": "a7dafe79",
   "metadata": {},
   "outputs": [],
   "source": [
    "def sep_stack(infos):\n",
    "    \n",
    "    tasksList = [80,81,82,83,84,85,86,87,88,89,90,91,92,95,97,98,99,100,101,181,104,153,128,\n",
    "                 184,102,2229,108,200,109,307]\n",
    "    nstacksList = [185,186,187,2234,319,188,189,320,191,2232,192,194,195,196,197,199,201,202,203,204,205,\n",
    "                   206,207,209,210,211,213,214,215,216,217,218,220,221,222,223,224,226,227,229,230,231,\n",
    "                   232,233,234,235,236,237,238,239,240,241,242,243,244,246,250,251,252,253,254,255,256,\n",
    "                   257,258,259,260,261,262,263,264,265,266,267,268,269,270,271,272,273,275,276,277,278,\n",
    "                   279,280,281,282,283,284,285,286,287,289,291,292,293,294,297,298,300,301,302,303,304,\n",
    "                   305,306,308,310,311,312,313,314,315,316,317,318]\n",
    "    for info in infos:\n",
    "        task = []\n",
    "        stack = []\n",
    "        rem = []\n",
    "        \n",
    "        for e_stack in info['stack']:\n",
    "            n_stack = int(e_stack)\n",
    "            if n_stack in tasksList:\n",
    "                task.append(e_stack)\n",
    "            elif n_stack in nstacksList:\n",
    "                stack.append(e_stack)\n",
    "            else:\n",
    "                rem.append(e_stack)\n",
    "\n",
    "        info[\"stack\"] = stack\n",
    "        info[\"task\"] = task\n",
    "        info[\"rem\"] = rem\n",
    "    return infos\n",
    "        "
   ]
  },
  {
   "cell_type": "code",
   "execution_count": 5,
   "id": "bc9401c0",
   "metadata": {},
   "outputs": [],
   "source": [
    "def main():\n",
    "    #global LIMIT\n",
    "    info = []\n",
    "    pages = 1\n",
    "    while True:\n",
    "        info.extend(get_info(pages))\n",
    "        pages = pages + 1\n",
    "        if(info[len(info)-1]['reg'] == '(1일 전 등록)'):\n",
    "            info.pop()\n",
    "            break\n",
    "\n",
    "\n",
    "    result = get_stack(info) \n",
    "    fin = sep_stack(result)\n",
    "    \n",
    "    return fin\n",
    "    \n",
    "    "
   ]
  },
  {
   "cell_type": "code",
   "execution_count": 6,
   "id": "50535e06",
   "metadata": {
    "scrolled": false
   },
   "outputs": [
    {
     "name": "stderr",
     "output_type": "stream",
     "text": [
      "/var/folders/8l/z4qr6xns7sb_mbw_25xwx0cm0000gn/T/ipykernel_24415/571913992.py:5: DeprecationWarning: executable_path has been deprecated, please pass in a Service object\n",
      "  browser = webdriver.Chrome(\"/usr/local/bin/chromedriver\",chrome_options = options);\t#chromedriver 위치\n",
      "/var/folders/8l/z4qr6xns7sb_mbw_25xwx0cm0000gn/T/ipykernel_24415/571913992.py:5: DeprecationWarning: use options instead of chrome_options\n",
      "  browser = webdriver.Chrome(\"/usr/local/bin/chromedriver\",chrome_options = options);\t#chromedriver 위치\n",
      "/var/folders/8l/z4qr6xns7sb_mbw_25xwx0cm0000gn/T/ipykernel_24415/325038808.py:4: DeprecationWarning: executable_path has been deprecated, please pass in a Service object\n",
      "  d_browser = webdriver.Chrome(\"/usr/local/bin/chromedriver\",chrome_options=options);\n",
      "/var/folders/8l/z4qr6xns7sb_mbw_25xwx0cm0000gn/T/ipykernel_24415/325038808.py:4: DeprecationWarning: use options instead of chrome_options\n",
      "  d_browser = webdriver.Chrome(\"/usr/local/bin/chromedriver\",chrome_options=options);\n"
     ]
    }
   ],
   "source": [
    "data = main()"
   ]
  },
  {
   "cell_type": "markdown",
   "id": "302144fc",
   "metadata": {},
   "source": []
  },
  {
   "cell_type": "code",
   "execution_count": 7,
   "id": "78e6ddde",
   "metadata": {},
   "outputs": [
    {
     "name": "stdout",
     "output_type": "stream",
     "text": [
      "1761.797564983368\n"
     ]
    }
   ],
   "source": [
    "end = time.time()\n",
    "print(format(end-start))"
   ]
  },
  {
   "cell_type": "code",
   "execution_count": 8,
   "id": "10ba160a",
   "metadata": {},
   "outputs": [],
   "source": [
    "dataA = pd.DataFrame(data)"
   ]
  },
  {
   "cell_type": "code",
   "execution_count": 9,
   "id": "2ef58acf",
   "metadata": {},
   "outputs": [],
   "source": [
    "dataA.to_excel('220216.xlsx')"
   ]
  },
  {
   "cell_type": "code",
   "execution_count": 11,
   "id": "4e2d7f62",
   "metadata": {},
   "outputs": [],
   "source": [
    "import json\n",
    "dataA.to_json('220216.json',force_ascii=False)"
   ]
  },
  {
   "cell_type": "code",
   "execution_count": null,
   "id": "c3e33a51",
   "metadata": {},
   "outputs": [],
   "source": []
  }
 ],
 "metadata": {
  "kernelspec": {
   "display_name": "Python 3 (ipykernel)",
   "language": "python",
   "name": "python3"
  },
  "language_info": {
   "codemirror_mode": {
    "name": "ipython",
    "version": 3
   },
   "file_extension": ".py",
   "mimetype": "text/x-python",
   "name": "python",
   "nbconvert_exporter": "python",
   "pygments_lexer": "ipython3",
   "version": "3.9.0"
  }
 },
 "nbformat": 4,
 "nbformat_minor": 5
}
