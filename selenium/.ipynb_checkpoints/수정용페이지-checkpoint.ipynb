{
 "cells": [
  {
   "cell_type": "code",
   "execution_count": 1,
   "id": "90481f61",
   "metadata": {},
   "outputs": [],
   "source": [
    "from selenium import webdriver\n",
    "from selenium.webdriver.common.by import By"
   ]
  },
  {
   "cell_type": "code",
   "execution_count": 8,
   "id": "0b9d80f2",
   "metadata": {},
   "outputs": [
    {
     "name": "stderr",
     "output_type": "stream",
     "text": [
      "/var/folders/8l/z4qr6xns7sb_mbw_25xwx0cm0000gn/T/ipykernel_20782/504734946.py:1: DeprecationWarning: executable_path has been deprecated, please pass in a Service object\n",
      "  dirver = webdriver.Chrome(\"/usr/local/bin/chromedriver\")\n"
     ]
    }
   ],
   "source": [
    "driver = webdriver.Chrome(\"/usr/local/bin/chromedriver\")\n",
    "\n",
    "url = \"https://www.saramin.co.kr/zf_user/jobs/relay/view?view_type=list&rec_idx=42342242\""
   ]
  },
  {
   "cell_type": "code",
   "execution_count": 9,
   "id": "f92c907f",
   "metadata": {},
   "outputs": [
    {
     "data": {
      "text/plain": [
       "'https://www.saramin.co.kr/zf_user/jobs/relay/view?isMypage=no&rec_idx=42342243&recommend_ids=eJxNkMsRQzEIA6vJHQHic04hr%2F8uYmcS4%2BPOCsHgahZl%2BZT2K9%2BObvWUp4CN27bE3y7sEk6YRNYJa3QUBk2BHcYvXFl6LHrXHZS1lz4205mD3oyxWlCRe5Y5VQbHZU0zYq6SquSEVcieqwRc%2F7hwlX%2F3fgA9TD%2FP&view_type=list&gz=1#seq=0'"
      ]
     },
     "execution_count": 9,
     "metadata": {},
     "output_type": "execute_result"
    }
   ],
   "source": [
    "driver.get(url)\n",
    "driver.current_url"
   ]
  }
 ],
 "metadata": {
  "kernelspec": {
   "display_name": "Python 3 (ipykernel)",
   "language": "python",
   "name": "python3"
  },
  "language_info": {
   "codemirror_mode": {
    "name": "ipython",
    "version": 3
   },
   "file_extension": ".py",
   "mimetype": "text/x-python",
   "name": "python",
   "nbconvert_exporter": "python",
   "pygments_lexer": "ipython3",
   "version": "3.9.0"
  }
 },
 "nbformat": 4,
 "nbformat_minor": 5
}
