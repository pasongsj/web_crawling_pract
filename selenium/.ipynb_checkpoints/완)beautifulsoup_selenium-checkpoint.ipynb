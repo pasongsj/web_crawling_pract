{
 "cells": [
  {
   "cell_type": "code",
   "execution_count": 1,
   "id": "b46eeefe",
   "metadata": {},
   "outputs": [],
   "source": [
    "import time\n",
    "start = time.time()\n",
    "from selenium import webdriver\n",
    "#from selenium.webdriver.common.keys import Keys\n",
    "from selenium.webdriver.common.by import By\n",
    "\n",
    "from selenium.webdriver.support.ui import WebDriverWait\n",
    "from selenium.webdriver.support import expected_conditions as EC\n",
    "options = webdriver.ChromeOptions()\n",
    "options.add_argument('headless')\n",
    "#user-agent\n",
    "options.add_argument('user-agent=Mozilla/5.0 (Macintosh; Intel Mac OS X 10_15_7) AppleWebKit/537.36 (KHTML, like Gecko) Chrome/98.0.4758.80 Safari/537.36')\n",
    "\n",
    "\n",
    "import requests\n",
    "from bs4 import BeautifulSoup\n",
    "import pandas as pd\n",
    "\n",
    "import openpyxl#엑셀저장\n",
    "\n",
    "\n",
    "URL = 'https://www.saramin.co.kr/zf_user/jobs/list/job-category?cat_mcls=2&sort=RD'\n",
    "I_URL = 'https://www.saramin.co.kr/zf_user/jobs/relay/view?'\n",
    "LIMIT = 1"
   ]
  },
  {
   "cell_type": "code",
   "execution_count": 2,
   "id": "36f17abe",
   "metadata": {},
   "outputs": [],
   "source": [
    "def extract_info(html):\n",
    "    global LIMIT\n",
    "    #inx\n",
    "    idx = html['id'][4:]\n",
    "   # stacks = extract_stack(idx)\n",
    "        #pages\n",
    "    \n",
    "    \n",
    "    \n",
    "    #회사명\n",
    "    company = html.find(\"div\",{\"class\":\"company_nm\"}).find(\"a\").string\n",
    "    #제목\n",
    "    title = html.find(\"div\",{\"class\":\"job_tit\"}).find(\"a\").string\n",
    "    #경력\n",
    "    career = html.find(\"p\",{\"class\":\"career\"}).string\n",
    "    #학력\n",
    "    education = html.find(\"p\",{\"class\":\"education\"}).string\n",
    "    #근무형태\n",
    "    employment_t = html.find(\"p\",{\"class\":\"employment_type\"}).string\n",
    "    #근무장소\n",
    "    try:\n",
    "        place = html.find(\"p\",{\"class\":\"work_place\"}).string\n",
    "    except Exception as e:\n",
    "        place = \"None\"\n",
    "    #마감일\n",
    "    deadline_tmp = html.find(\"p\",{\"class\": \"deadlines\"}).get_text()\n",
    "    deadlines = deadline_tmp[:deadline_tmp.find('(')]\n",
    "\n",
    "    #등록일\n",
    "    reg = html.find(\"span\",{\"class\":\"reg_date\"}).string\n",
    "    \n",
    "    all_infos = {'title':title, 'company':company, 'career':career, 'education':education,\n",
    "                'employment_type' :employment_t,  'workc_place':place, 'deadline': deadlines,\n",
    "                'idx':idx,'reg':reg}\n",
    "    if(reg == '(1일 전 등록)'):\n",
    "        LIMIT = 0\n",
    "        return all_infos\n",
    "    return all_infos"
   ]
  },
  {
   "cell_type": "code",
   "execution_count": 3,
   "id": "438b17c7",
   "metadata": {},
   "outputs": [],
   "source": [
    "def extract_page(pages):#전체페이지\n",
    "    result = requests.get(f\"{URL}&page={pages}\")\n",
    "\n",
    "    soup = BeautifulSoup(result.text, \"html.parser\")\n",
    "    #모든 공고 리스트\n",
    "    infos= soup.find_all(\"div\", {\"class\":\"list_item\"})\n",
    "    \n",
    "    for_test = 1\n",
    "    jobs = []\n",
    "    for info in infos:# 각 공고 접근\n",
    "        job = extract_info(info)\n",
    "        jobs.append(job)\n",
    "        if(LIMIT == 0):# 1일전 등록 check\n",
    "            return jobs\n",
    "        #test\n",
    "        '''\n",
    "        if(for_test > 10):\n",
    "            return jobs\n",
    "        for_test = for_test + 1\n",
    "        '''\n",
    "        #test\n",
    "\n",
    "    return jobs"
   ]
  },
  {
   "cell_type": "code",
   "execution_count": 4,
   "id": "42460f60",
   "metadata": {},
   "outputs": [],
   "source": [
    "def get_stack(a_jobs):#세부페이지 태그\n",
    "    #페이지 열기\n",
    "    browser = webdriver.Chrome(\"/usr/local/bin/chromedriver\",chrome_options=options);\n",
    "    browser.implicitly_wait(2)\n",
    "    \n",
    "    for e_info in a_jobs:\n",
    "        d_url = 'https://www.saramin.co.kr/zf_user/jobs/relay/view?rec_idx='+e_info['idx']\n",
    "        #페이지 접속\n",
    "        browser.get(d_url)\n",
    "        #오류제거\n",
    "        wait = WebDriverWait(browser,20)\n",
    "        element = wait.until(EC.presence_of_element_located((By.CSS_SELECTOR,'.tags')))\n",
    "        #tag접근\n",
    "        tag_sec = browser.find_element(By.CSS_SELECTOR,'.tags')\n",
    "        stacks = tag_sec.find_element(By.CSS_SELECTOR,'.scroll')\n",
    "        tmps = stacks.find_elements(By.TAG_NAME, 'a')\n",
    "        #모든 태크 모으기\n",
    "        stack = []\n",
    "        for tmp in tmps:\n",
    "            url = tmp.get_attribute('href')\n",
    "            index = url.find('kewd')\n",
    "            if(index != -1):\n",
    "                stack.append(url[index+5:])\n",
    "        e_info[\"stack\"] = stack\n",
    "\n",
    "    browser.quit()\n",
    "    return a_jobs"
   ]
  },
  {
   "cell_type": "code",
   "execution_count": 5,
   "id": "1602b246",
   "metadata": {},
   "outputs": [],
   "source": [
    "def main():\n",
    "    global LIMIT\n",
    "    a_jobs = []\n",
    "    i = 1\n",
    "    while(LIMIT):\n",
    "        a_jobs.extend(extract_page(i))\n",
    "        i = i+1\n",
    "    \n",
    "    result = get_stack(a_jobs)\n",
    "    \n",
    "        \n",
    "    return result"
   ]
  },
  {
   "cell_type": "code",
   "execution_count": 6,
   "id": "425b74d2",
   "metadata": {
    "scrolled": false
   },
   "outputs": [
    {
     "name": "stderr",
     "output_type": "stream",
     "text": [
      "/var/folders/8l/z4qr6xns7sb_mbw_25xwx0cm0000gn/T/ipykernel_45540/1707580780.py:3: DeprecationWarning: executable_path has been deprecated, please pass in a Service object\n",
      "  browser = webdriver.Chrome(\"/usr/local/bin/chromedriver\",chrome_options=options);\n",
      "/var/folders/8l/z4qr6xns7sb_mbw_25xwx0cm0000gn/T/ipykernel_45540/1707580780.py:3: DeprecationWarning: use options instead of chrome_options\n",
      "  browser = webdriver.Chrome(\"/usr/local/bin/chromedriver\",chrome_options=options);\n"
     ]
    }
   ],
   "source": [
    "data = main()"
   ]
  },
  {
   "cell_type": "code",
   "execution_count": 7,
   "id": "537d0368",
   "metadata": {},
   "outputs": [],
   "source": [
    "dataA = pd.DataFrame(data)"
   ]
  },
  {
   "cell_type": "code",
   "execution_count": 9,
   "id": "322dc683",
   "metadata": {},
   "outputs": [
    {
     "name": "stdout",
     "output_type": "stream",
     "text": [
      "2264.5981340408325\n"
     ]
    }
   ],
   "source": [
    "dataA.to_excel(\"220210.xlsx\")\n",
    "end = time.time()\n",
    "print(format(end-start))"
   ]
  },
  {
   "cell_type": "code",
   "execution_count": 11,
   "id": "e3cbc242",
   "metadata": {},
   "outputs": [],
   "source": [
    "dataA.to_excel(\"220210_del_index.xlsx\",index=False)"
   ]
  },
  {
   "cell_type": "code",
   "execution_count": null,
   "id": "9300c266",
   "metadata": {},
   "outputs": [],
   "source": []
  }
 ],
 "metadata": {
  "kernelspec": {
   "display_name": "Python 3 (ipykernel)",
   "language": "python",
   "name": "python3"
  },
  "language_info": {
   "codemirror_mode": {
    "name": "ipython",
    "version": 3
   },
   "file_extension": ".py",
   "mimetype": "text/x-python",
   "name": "python",
   "nbconvert_exporter": "python",
   "pygments_lexer": "ipython3",
   "version": "3.9.0"
  }
 },
 "nbformat": 4,
 "nbformat_minor": 5
}
