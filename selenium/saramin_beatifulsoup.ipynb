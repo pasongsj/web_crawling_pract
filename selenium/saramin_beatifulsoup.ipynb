{
 "cells": [
  {
   "cell_type": "code",
   "execution_count": 1,
   "id": "b46eeefe",
   "metadata": {},
   "outputs": [],
   "source": [
    "import requests\n",
    "from bs4 import BeautifulSoup\n",
    "import pandas as pd\n",
    "URL = 'https://www.saramin.co.kr/zf_user/jobs/list/job-category?cat_mcls=2&sort=RD'\n",
    "I_URL = 'https://www.saramin.co.kr/zf_user/jobs/relay/view?'\n",
    "LIMIT = 1"
   ]
  },
  {
   "cell_type": "code",
   "execution_count": 8,
   "id": "36f17abe",
   "metadata": {},
   "outputs": [],
   "source": [
    "def extract_info(pages):#썸네일 세부 info\n",
    "    global LIMIT\n",
    "    source = []\n",
    "    result = requests.get(f\"{URL}&page={pages}\")\n",
    "    soup = BeautifulSoup(result.text, \"html.parser\")\n",
    "    infos= soup.find_all(\"div\", {\"class\":\"list_item\"})\n",
    "\n",
    "    for info in infos:\n",
    "        #print(info)\n",
    "        job = extract_info(info)\n",
    "        #jobs.append(job)\n",
    "        #inx\n",
    "        idx = info['id'][4:]\n",
    "       \n",
    "        #회사명\n",
    "        company = info.find(\"div\",{\"class\":\"company_nm\"}).find(\"a\").string\n",
    "        #제목\n",
    "        title = info.find(\"div\",{\"class\":\"job_tit\"}).find(\"a\").string\n",
    "        #스택\n",
    "        works = []\n",
    "\n",
    "        work_s = info.find(\"span\",{\"class\":\"job_sector\"}).find_all(\"span\")#span값\n",
    "\n",
    "        for work in work_s:\n",
    "            works.append(work.string)\n",
    "\n",
    "        #경력\n",
    "        career = info.find(\"p\",{\"class\":\"career\"}).string\n",
    "        #학력\n",
    "        education = info.find(\"p\",{\"class\":\"education\"}).string\n",
    "        #근무형태\n",
    "        employment_t = info.find(\"p\",{\"class\":\"employment_type\"}).string\n",
    "        #근무장소\n",
    "        try:\n",
    "            place = info.find(\"p\",{\"class\":\"work_place\"}).string\n",
    "        except Exception as e:\n",
    "            place = \"None\"\n",
    "        #마감일\n",
    "        deadline_tmp = info.find(\"p\",{\"class\": \"deadlines\"}).get_text()\n",
    "        deadline = deadline_tmp[:deadline_tmp.find('(')]\n",
    "\n",
    "        #등록일\n",
    "        reg = info.find(\"span\",{\"class\":\"reg_date\"}).string\n",
    "        if(reg == '(1일 전 등록)'):\n",
    "            LIMIT = 0\n",
    "            return source\n",
    "        \n",
    "        res = {'title':title, 'company':company, 'career':career, 'education':education,\n",
    "                'employment_type' :employment_t,  'workc_place':place, 'deadline': deadline,\n",
    "                'idx':idx,'reg':reg}\n",
    "        print(res)\n",
    "        source.append(res)\n",
    "    #print(source)\n",
    "    return source"
   ]
  },
  {
   "cell_type": "code",
   "execution_count": 9,
   "id": "1602b246",
   "metadata": {},
   "outputs": [],
   "source": [
    "\n",
    "def main():\n",
    "    global LIMIT\n",
    "    jobs = []\n",
    "    pages = 13\n",
    "    while(LIMIT):\n",
    "        #result = requests.get(f\"{URL}&page={pages}\")\n",
    "        #soup = BeautifulSoup(result.text, \"html.parser\")\n",
    "        #infos= soup.find_all(\"div\", {\"class\":\"list_item\"})\n",
    "\n",
    "        #for info in infos:\n",
    "            #print(info)\n",
    "            #job = extract_info(info)\n",
    "            #jobs.append(job)\n",
    "            #print\n",
    "        extract_info(pages)\n",
    "        pages = pages+1\n",
    "    return jobs"
   ]
  },
  {
   "cell_type": "code",
   "execution_count": 12,
   "id": "425b74d2",
   "metadata": {
    "scrolled": true
   },
   "outputs": [
    {
     "name": "stdout",
     "output_type": "stream",
     "text": [
      "{'title': '[에이캐피탈] IT 업무지원팀 홈페이지개발자 경력직 모집', 'company': '에이캐피탈(주)', 'career': '경력 5년↑', 'education': '대학교(4년)↑', 'employment_type': '정규직', 'workc_place': '서울 중구', 'deadline': '~ 02/20', 'idx': '42288187', 'reg': '(22시간 전 등록)'}\n",
      "{'title': '기술연구소 영상처리 신입/ 경력자 모집', 'company': '(주)코리센', 'career': '신입 · 경력', 'education': '대학(2,3년)↑', 'employment_type': '정규직', 'workc_place': '서울 금천구', 'deadline': '~ 02/28', 'idx': '42288182', 'reg': '(22시간 전 등록)'}\n",
      "{'title': '머신비젼 SW 개발 / 머신비젼 검사 운영 채용', 'company': '(주)트윔', 'career': '신입 · 경력', 'education': '대학교(4년)↑', 'employment_type': '정규직', 'workc_place': '경기 화성시', 'deadline': '~ 03/11', 'idx': '42288164', 'reg': '(22시간 전 등록)'}\n",
      "{'title': '서버 프로그램 개발 부문 인턴 채용 (대전)', 'company': '(주)지란지교데이터', 'career': '경력무관', 'education': '학력무관', 'employment_type': '인턴직', 'workc_place': '대전 유성구', 'deadline': '~ 03/07', 'idx': '42288144', 'reg': '(22시간 전 등록)'}\n",
      "{'title': 'H/W&전화상담 정규직 채용(경력무관)', 'company': '(주)영선아이티', 'career': '경력무관', 'education': '학력무관', 'employment_type': '정규직', 'workc_place': '서울 강서구', 'deadline': '~ 03/11', 'idx': '42288117', 'reg': '(22시간 전 등록)'}\n",
      "{'title': '게임개발사 NFT 기반게임 차기개발예정 클라이언트 프로그래머', 'company': '코리아써치', 'career': '경력 3년↑', 'education': '대학교(4년)↑', 'employment_type': '정규직', 'workc_place': '서울 강남구', 'deadline': '~ 03/11', 'idx': '42288113', 'reg': '(22시간 전 등록)'}\n",
      "{'title': '시스템 구축(서버 및 전산장비)  및 관리 - 정규직', 'company': '(주)엔코디', 'career': '경력 1년↑', 'education': '대학(2,3년)↑', 'employment_type': '정규직', 'workc_place': '서울 중구', 'deadline': '~ 04/10', 'idx': '42288094', 'reg': '(22시간 전 등록)'}\n",
      "{'title': '[NH통합IT센터] 유지보수 담당자 모집 공고 (C#, VB.NET, API)', 'company': '(주)미네르바소프트', 'career': '경력무관', 'education': '학력무관', 'employment_type': '정규직', 'workc_place': '경기 의왕시', 'deadline': '~ 03/11', 'idx': '42288082', 'reg': '(22시간 전 등록)'}\n",
      "{'title': '기업부설연구소 소프트웨어 개발 경력 채용', 'company': '(주)한솔리드텍', 'career': '경력 2년↑', 'education': '대학(2,3년)↑', 'employment_type': '정규직', 'workc_place': '경기 의왕시', 'deadline': '채용시', 'idx': '42288080', 'reg': '(22시간 전 등록)'}\n",
      "{'title': '2022년 공채 모집 [유니와이드] 주4.5일 근무, 구로디지털단지', 'company': '(주)유니와이드테크놀러지', 'career': '경력무관', 'education': '대학(2,3년)↑', 'employment_type': '정규직', 'workc_place': '서울 구로구', 'deadline': '~ 03/11', 'idx': '42288068', 'reg': '(22시간 전 등록)'}\n",
      "{'title': '2022 상반기 IT개발·데이터 경력사원 채용합니다', 'company': '에이캐피탈(주)', 'career': '경력 4년↑', 'education': '대학교(4년)↑', 'employment_type': '정규직', 'workc_place': '서울 중구', 'deadline': '~ 02/20', 'idx': '42288048', 'reg': '(22시간 전 등록)'}\n",
      "{'title': '[골프IT선두기업]PHP/JAVA/Front/DBA/PM/UI/보안/퍼블리셔 채용', 'company': '(주)스마트스코어', 'career': '경력', 'education': '학력무관', 'employment_type': '정규직 · 계약직', 'workc_place': '서울 강남구', 'deadline': '~ 02/28', 'idx': '42288044', 'reg': '(22시간 전 등록)'}\n",
      "{'title': '[샤픈고트] 웹디자이너 채용 공고', 'company': '(주)샤픈고트', 'career': '경력 1년↑', 'education': '학력무관', 'employment_type': '정규직', 'workc_place': '부산 해운대구', 'deadline': '내일마감', 'idx': '42288026', 'reg': '(22시간 전 등록)'}\n",
      "{'title': '2022 상반기 백엔드/서버개발 경력직 채용', 'company': '(주)호호컴퍼니', 'career': '3 ~ 6년', 'education': '학력무관', 'employment_type': '정규직', 'workc_place': '전남 나주시', 'deadline': '채용시', 'idx': '42287996', 'reg': '(22시간 전 등록)'}\n",
      "{'title': 'pharmaceutical Analytics Consultant( HIRA 데이터분석)', 'company': '코리아써치', 'career': '경력 3년↑', 'education': '대학교(4년)↑', 'employment_type': '정규직', 'workc_place': '서울 강남구', 'deadline': '~ 02/24', 'idx': '42287959', 'reg': '(22시간 전 등록)'}\n",
      "{'title': '2022년 소프트웨어(SW) 개발 담당자(정규직) 모집', 'company': '(주)글림시스템즈', 'career': '경력무관', 'education': '대학(2,3년)↑', 'employment_type': '정규직', 'workc_place': '대전 유성구', 'deadline': '상시채용', 'idx': '42287949', 'reg': '(22시간 전 등록)'}\n",
      "{'title': 'e-스포츠 전략 담당/세계적인 FPS게임사/영어/판교', 'company': '(주)에이치알비즈코리아', 'career': '5 ~ 12년', 'education': '대학교(4년)↑', 'employment_type': '정규직', 'workc_place': '경기 성남시 분당구', 'deadline': '~ 03/11', 'idx': '42287935', 'reg': '(22시간 전 등록)'}\n",
      "{'title': '건설/안전 IT 서비스 기술영업', 'company': '(주)티앤블루랩', 'career': '경력무관', 'education': '대학(2,3년)↑', 'employment_type': '정규직', 'workc_place': '서울 금천구', 'deadline': '~ 03/11', 'idx': '42287925', 'reg': '(23시간 전 등록)'}\n",
      "{'title': '[㈜루나소프트] AWS시스템엔지니어 경력직 채용', 'company': '(주)루나소프트', 'career': '경력 2년↑', 'education': '학력무관', 'employment_type': '정규직', 'workc_place': '서울 강남구', 'deadline': '채용시', 'idx': '42287924', 'reg': '(23시간 전 등록)'}\n",
      "{'title': '(주)엔솔브 2022년 C# 개발자(정규직)채용', 'company': '(주)엔솔브', 'career': '경력무관', 'education': '대학(2,3년)↑', 'employment_type': '정규직', 'workc_place': '부산 북구', 'deadline': '~ 04/10', 'idx': '42287909', 'reg': '(23시간 전 등록)'}\n",
      "{'title': '앞으로 함께할 웹(PHP)개발자를 찾습니다.', 'company': '디제이메디(주)', 'career': '경력 2년↑', 'education': '학력무관', 'employment_type': '정규직', 'workc_place': '경기 고양시 일산동구', 'deadline': '~ 03/11', 'idx': '42287902', 'reg': '(23시간 전 등록)'}\n",
      "{'title': '기술영업 (산업용 카메라)', 'company': '㈜씽크론', 'career': '신입 · 경력', 'education': '대학교(4년)↑', 'employment_type': '정규직', 'workc_place': '서울 구로구', 'deadline': '~ 03/11', 'idx': '42287894', 'reg': '(23시간 전 등록)'}\n",
      "{'title': '[외국계자동차부품사] xEV System software engineer', 'company': '(주)인핸스파트너스', 'career': '5 ~ 14년', 'education': '대학교(4년)↑', 'employment_type': '정규직', 'workc_place': '경기 용인시 기흥구', 'deadline': '~ 02/19', 'idx': '42287892', 'reg': '(23시간 전 등록)'}\n",
      "{'title': '[(주)메가웍스] 직원(사업기획) 채용', 'company': '(주)메가웍스', 'career': '경력 2년↑', 'education': '학력무관', 'employment_type': '정규직', 'workc_place': '광주 동구', 'deadline': '~ 03/11', 'idx': '42287885', 'reg': '(23시간 전 등록)'}\n",
      "{'title': '미디어팀  웹 개발자 채용 - 경력/신입', 'company': '(주)앨컴퍼니', 'career': '경력무관', 'education': '고졸↑', 'employment_type': '계약직', 'workc_place': '서울 강남구', 'deadline': '~ 03/11', 'idx': '42287877', 'reg': '(23시간 전 등록)'}\n",
      "{'title': 'PHP 개발자 경력자 채용(연봉협의)', 'company': '아솜', 'career': '경력 2년↑', 'education': '고졸↑', 'employment_type': '정규직', 'workc_place': '서울 서초구', 'deadline': '~ 04/10', 'idx': '42287873', 'reg': '(23시간 전 등록)'}\n",
      "{'title': '열정 가득한 웹디자이너 추가 모집합니다', 'company': '(주)반하나컨설팅', 'career': '1 ~ 2년', 'education': '학력무관', 'employment_type': '정규직', 'workc_place': '부산 부산진구', 'deadline': '~ 03/11', 'idx': '42287860', 'reg': '(23시간 전 등록)'}\n",
      "{'title': '2022년  웹 UI 퍼블리셔 채용', 'company': '(주)에스제이테크놀로지', 'career': '경력 3년↑', 'education': '대학(2,3년)↑', 'employment_type': '정규직 · 계약직', 'workc_place': '서울 마포구', 'deadline': '~ 02/15', 'idx': '42287854', 'reg': '(23시간 전 등록)'}\n",
      "{'title': 'QA엔지니어 (Web/App)채용 (정규직)', 'company': '미스터블루(주)', 'career': '2 ~ 3년', 'education': '학력무관', 'employment_type': '정규직', 'workc_place': '서울 마포구', 'deadline': '~ 03/11', 'idx': '42287852', 'reg': '(23시간 전 등록)'}\n",
      "{'title': '[NH통합IT센터] Java, C# 정규직 채용 (초급개발자)', 'company': '(주)미네르바소프트', 'career': '경력무관', 'education': '학력무관', 'employment_type': '정규직', 'workc_place': '경기 의왕시', 'deadline': '~ 03/11', 'idx': '42287835', 'reg': '(23시간 전 등록)'}\n",
      "{'title': '에이프로젠제약㈜ 영업지원/영업 및 전산 직원 채용', 'company': '에이프로젠제약(주)', 'career': '신입 · 경력', 'education': '고졸↑', 'employment_type': '정규직', 'workc_place': '경기 성남시 중원구', 'deadline': '~ 02/20', 'idx': '42287814', 'reg': '(23시간 전 등록)'}\n",
      "{'title': '온라인 뷰티 컨텐츠 - 경력 디자이너 모집', 'company': '(주)피에이인터네셔널', 'career': '경력 3년↑', 'education': '대학(2,3년)↑', 'employment_type': '정규직', 'workc_place': '서울 마포구', 'deadline': '채용시', 'idx': '42287807', 'reg': '(23시간 전 등록)'}\n",
      "{'title': 'SW/솔루션 경력직 채용', 'company': '(주)지존', 'career': '3 ~ 5년', 'education': '학력무관', 'employment_type': '정규직', 'workc_place': '서울전체', 'deadline': '상시채용', 'idx': '42287804', 'reg': '(23시간 전 등록)'}\n",
      "{'title': '(주)한국비즈넷  사업본부 직원 채용 공고', 'company': '(주)한국비즈넷', 'career': '경력무관', 'education': '고졸↑', 'employment_type': '정규직', 'workc_place': '서울 구로구', 'deadline': '~ 03/11', 'idx': '42287802', 'reg': '(23시간 전 등록)'}\n",
      "{'title': '[한국비즈넷] JAVA기반 물류 시스템 개발 시니어 인재 채용', 'company': '(주)한국비즈넷', 'career': '경력 7년↑', 'education': '대학(2,3년)↑', 'employment_type': '정규직', 'workc_place': '서울 구로구', 'deadline': '~ 03/11', 'idx': '42287787', 'reg': '(23시간 전 등록)'}\n",
      "{'title': '(주)한국비즈넷 연구개발실 개발자 모집', 'company': '(주)한국비즈넷', 'career': '신입 · 경력', 'education': '대학(2,3년)↑', 'employment_type': '정규직', 'workc_place': '서울 구로구', 'deadline': '~ 03/11', 'idx': '42287782', 'reg': '(23시간 전 등록)'}\n",
      "{'title': '안드로이드 개발자 ((주)립페이- 경산 근무)', 'company': '(주)엘엔벤처그룹', 'career': '3 ~ 7년', 'education': '학력무관', 'employment_type': '정규직', 'workc_place': '경북 경산시', 'deadline': '채용시', 'idx': '42287774', 'reg': '(23시간 전 등록)'}\n",
      "{'title': '[(주)인젠트]R&D Center 서버개발자 신입/경력 채용', 'company': '(주)인젠트', 'career': '신입 · 경력', 'education': '대학교(4년)↑', 'employment_type': '정규직', 'workc_place': '서울 영등포구', 'deadline': '~ 03/31', 'idx': '42287772', 'reg': '(23시간 전 등록)'}\n"
     ]
    },
    {
     "name": "stdout",
     "output_type": "stream",
     "text": [
      "{'title': '웹개발, 반응형웹 정규직 모집(경력무관)', 'company': '(주)모비다임', 'career': '경력무관', 'education': '대학(2,3년)↑', 'employment_type': '정규직', 'workc_place': '대전 동구', 'deadline': '채용시', 'idx': '42287760', 'reg': '(23시간 전 등록)'}\n",
      "{'title': '[원더피플]보안분석팀[Anti-Cheat] Data Analyst 모집', 'company': '(주)원더피플', 'career': '신입 · 경력', 'education': '학력무관', 'employment_type': '정규직', 'workc_place': '서울 강남구', 'deadline': '~ 04/10', 'idx': '42287755', 'reg': '(23시간 전 등록)'}\n",
      "{'title': '마포 상암동 공기업 제니퍼 개발자 모집 ( 즉시출근 장기 SM )', 'company': '푸른IT', 'career': '4 ~ 15년', 'education': '대학(2,3년)↑', 'employment_type': '프리랜서', 'workc_place': '서울 마포구', 'deadline': '~ 02/18', 'idx': '42287740', 'reg': '(23시간 전 등록)'}\n",
      "{'title': '기술부 신입사원모집', 'company': '(주)씨에스프론트라인', 'career': '신입', 'education': '고졸↑', 'employment_type': '정규직', 'workc_place': '경기 성남시 수정구', 'deadline': '~ 04/10', 'idx': '42287717', 'reg': '(23시간 전 등록)'}\n",
      "{'title': '전산실 개발자 채용 - 신입 또는 경력 6년 이하', 'company': '디에이치(주)', 'career': '신입 · 경력', 'education': '학력무관', 'employment_type': '정규직', 'workc_place': '경기 수원시 권선구', 'deadline': '~ 03/07', 'idx': '42287700', 'reg': '(23시간 전 등록)'}\n",
      "{'title': '[자동차 사이버 보안] 웹 백엔드 개발자 모집', 'company': '(주)페스카로', 'career': '신입 · 경력', 'education': '대학교(4년)↑', 'employment_type': '정규직', 'workc_place': '경기 성남시 수정구', 'deadline': '~ 03/11', 'idx': '42287695', 'reg': '(23시간 전 등록)'}\n",
      "{'title': '[원더피플]보안분석팀[Anti-Cheat] Data Scientist 모집', 'company': '(주)원더피플', 'career': '신입 · 경력', 'education': '학력무관', 'employment_type': '정규직', 'workc_place': '서울 강남구', 'deadline': '~ 04/10', 'idx': '42287658', 'reg': '(23시간 전 등록)'}\n",
      "{'title': '[자동차 사이버 보안]임베디드 SW 신입/경력 개발자 모집', 'company': '(주)페스카로', 'career': '신입 · 경력', 'education': '대학교(4년)↑', 'employment_type': '정규직', 'workc_place': '경기 성남시 수정구', 'deadline': '~ 03/11', 'idx': '42287651', 'reg': '(23시간 전 등록)'}\n",
      "{'title': '[VR게임 개발업체] 클라이언트 모집', 'company': '(주)스토익엔터테인먼트', 'career': '경력 7년↑', 'education': '학력무관', 'employment_type': '정규직', 'workc_place': '서울 마포구', 'deadline': '~ 03/11', 'idx': '42287640', 'reg': '(23시간 전 등록)'}\n",
      "{'title': '네트워크, 보안, 서버 엔지니어 채용', 'company': '에스지에이강원(주)', 'career': '경력무관', 'education': '대학(2,3년)↑', 'employment_type': '정규직', 'workc_place': '강원 춘천시', 'deadline': '~ 03/11', 'idx': '42287632', 'reg': '(23시간 전 등록)'}\n",
      "{'title': '[그린플랫폼] 웹퍼블리셔', 'company': '주식회사 그린플랫폼', 'career': '경력 1년↑', 'education': '학력무관', 'employment_type': '정규직', 'workc_place': '경기 과천시', 'deadline': '~ 03/11', 'idx': '42287631', 'reg': '(23시간 전 등록)'}\n",
      "{'title': '우리동네 히어로의 개발자 히어로를 찾습니다.', 'company': '(주)우리동네히어로', 'career': '3 ~ 5년', 'education': '학력무관', 'employment_type': '정규직', 'workc_place': '서울 성동구', 'deadline': '~ 04/10', 'idx': '42287619', 'reg': '(23시간 전 등록)'}\n",
      "{'title': '현대오일뱅크 채용 연계형 인턴 모집', 'company': '현대오일뱅크(주)', 'career': '신입', 'education': '대학교(4년)↑', 'employment_type': '인턴직', 'workc_place': '충남 서산시', 'deadline': '~ 02/23', 'idx': '42287618', 'reg': '(23시간 전 등록)'}\n",
      "{'title': '[천안/아산] 노리시스템(주)  JAVA, C#.NET, DB 개발자 모집', 'company': '노리시스템(주)', 'career': '경력 3년↑', 'education': '대학(2,3년)↑', 'employment_type': '정규직', 'workc_place': '충남 천안시 서북구', 'deadline': '~ 02/28', 'idx': '42287605', 'reg': '(23시간 전 등록)'}\n",
      "{'title': '[VR게임 개발업체] 서버 모집', 'company': '(주)스토익엔터테인먼트', 'career': '신입 · 경력', 'education': '학력무관', 'employment_type': '정규직', 'workc_place': '서울 마포구', 'deadline': '~ 03/11', 'idx': '42287597', 'reg': '(23시간 전 등록)'}\n",
      "{'title': '주식회사 포데로사 각 부문 신입 및 경력 모집', 'company': '주식회사 포데로사', 'career': '경력무관', 'education': '학력무관', 'employment_type': '정규직 · 계약직', 'workc_place': '서울 서초구', 'deadline': '~ 02/28', 'idx': '42287562', 'reg': '(23시간 전 등록)'}\n",
      "{'title': '[원더피플]보안분석팀 [Anti-Cheat] Reverse Engineer 모집', 'company': '(주)원더피플', 'career': '경력 3년↑', 'education': '학력무관', 'employment_type': '정규직', 'workc_place': '서울 강남구', 'deadline': '~ 04/10', 'idx': '42287559', 'reg': '(23시간 전 등록)'}\n",
      "{'title': '기술연구소 Flutter/SQL/Android/Node.js 외 경력무관', 'company': '(주)삼일엘텍', 'career': '경력무관', 'education': '학력무관', 'employment_type': '정규직', 'workc_place': '경기 화성시', 'deadline': '~ 02/28', 'idx': '42287548', 'reg': '(23시간 전 등록)'}\n",
      "{'title': '웹프로그램 경력직(7년이상, 팀장급)모집', 'company': '(주)오엠인터랙티브', 'career': '경력 7년↑', 'education': '학력무관', 'employment_type': '정규직 · 계약직', 'workc_place': '서울 성동구', 'deadline': '~ 03/11', 'idx': '42287544', 'reg': '(23시간 전 등록)'}\n",
      "{'title': '[천안] 노리시스템(주) 시스템 운영자 모집', 'company': '노리시스템(주)', 'career': '신입', 'education': '대학(2,3년)↑', 'employment_type': '정규직', 'workc_place': '충남 천안시 서북구', 'deadline': '~ 02/28', 'idx': '42287524', 'reg': '(23시간 전 등록)'}\n",
      "{'title': '[03개월] 퍼블리셔 모집', 'company': '(주)웹크루트', 'career': '경력 6년↑', 'education': '학력무관', 'employment_type': '프리랜서', 'workc_place': '서울 서초구', 'deadline': '~ 02/18', 'idx': '42287500', 'reg': '(23시간 전 등록)'}\n"
     ]
    },
    {
     "ename": "KeyboardInterrupt",
     "evalue": "",
     "output_type": "error",
     "traceback": [
      "\u001b[0;31m---------------------------------------------------------------------------\u001b[0m",
      "\u001b[0;31mKeyboardInterrupt\u001b[0m                         Traceback (most recent call last)",
      "Input \u001b[0;32mIn [12]\u001b[0m, in \u001b[0;36m<module>\u001b[0;34m\u001b[0m\n\u001b[0;32m----> 1\u001b[0m data \u001b[38;5;241m=\u001b[39m \u001b[43mmain\u001b[49m\u001b[43m(\u001b[49m\u001b[43m)\u001b[49m\n",
      "Input \u001b[0;32mIn [9]\u001b[0m, in \u001b[0;36mmain\u001b[0;34m()\u001b[0m\n\u001b[1;32m      4\u001b[0m pages \u001b[38;5;241m=\u001b[39m \u001b[38;5;241m13\u001b[39m\n\u001b[1;32m      5\u001b[0m \u001b[38;5;28;01mwhile\u001b[39;00m(LIMIT):\n\u001b[1;32m      6\u001b[0m     \u001b[38;5;66;03m#result = requests.get(f\"{URL}&page={pages}\")\u001b[39;00m\n\u001b[1;32m      7\u001b[0m     \u001b[38;5;66;03m#soup = BeautifulSoup(result.text, \"html.parser\")\u001b[39;00m\n\u001b[0;32m   (...)\u001b[0m\n\u001b[1;32m     13\u001b[0m         \u001b[38;5;66;03m#jobs.append(job)\u001b[39;00m\n\u001b[1;32m     14\u001b[0m         \u001b[38;5;66;03m#print\u001b[39;00m\n\u001b[0;32m---> 15\u001b[0m     \u001b[43mextract_info\u001b[49m\u001b[43m(\u001b[49m\u001b[43mpages\u001b[49m\u001b[43m)\u001b[49m\n\u001b[1;32m     16\u001b[0m     pages \u001b[38;5;241m=\u001b[39m pages\u001b[38;5;241m+\u001b[39m\u001b[38;5;241m1\u001b[39m\n\u001b[1;32m     17\u001b[0m \u001b[38;5;28;01mreturn\u001b[39;00m jobs\n",
      "Input \u001b[0;32mIn [8]\u001b[0m, in \u001b[0;36mextract_info\u001b[0;34m(pages)\u001b[0m\n\u001b[1;32m      6\u001b[0m infos\u001b[38;5;241m=\u001b[39m soup\u001b[38;5;241m.\u001b[39mfind_all(\u001b[38;5;124m\"\u001b[39m\u001b[38;5;124mdiv\u001b[39m\u001b[38;5;124m\"\u001b[39m, {\u001b[38;5;124m\"\u001b[39m\u001b[38;5;124mclass\u001b[39m\u001b[38;5;124m\"\u001b[39m:\u001b[38;5;124m\"\u001b[39m\u001b[38;5;124mlist_item\u001b[39m\u001b[38;5;124m\"\u001b[39m})\n\u001b[1;32m      8\u001b[0m \u001b[38;5;28;01mfor\u001b[39;00m info \u001b[38;5;129;01min\u001b[39;00m infos:\n\u001b[1;32m      9\u001b[0m     \u001b[38;5;66;03m#print(info)\u001b[39;00m\n\u001b[0;32m---> 10\u001b[0m     job \u001b[38;5;241m=\u001b[39m \u001b[43mextract_info\u001b[49m\u001b[43m(\u001b[49m\u001b[43minfo\u001b[49m\u001b[43m)\u001b[49m\n\u001b[1;32m     11\u001b[0m     \u001b[38;5;66;03m#jobs.append(job)\u001b[39;00m\n\u001b[1;32m     12\u001b[0m     \u001b[38;5;66;03m#inx\u001b[39;00m\n\u001b[1;32m     13\u001b[0m     idx \u001b[38;5;241m=\u001b[39m info[\u001b[38;5;124m'\u001b[39m\u001b[38;5;124mid\u001b[39m\u001b[38;5;124m'\u001b[39m][\u001b[38;5;241m4\u001b[39m:]\n",
      "Input \u001b[0;32mIn [8]\u001b[0m, in \u001b[0;36mextract_info\u001b[0;34m(pages)\u001b[0m\n\u001b[1;32m      2\u001b[0m \u001b[38;5;28;01mglobal\u001b[39;00m LIMIT\n\u001b[1;32m      3\u001b[0m source \u001b[38;5;241m=\u001b[39m []\n\u001b[0;32m----> 4\u001b[0m result \u001b[38;5;241m=\u001b[39m \u001b[43mrequests\u001b[49m\u001b[38;5;241;43m.\u001b[39;49m\u001b[43mget\u001b[49m\u001b[43m(\u001b[49m\u001b[38;5;124;43mf\u001b[39;49m\u001b[38;5;124;43m\"\u001b[39;49m\u001b[38;5;132;43;01m{\u001b[39;49;00m\u001b[43mURL\u001b[49m\u001b[38;5;132;43;01m}\u001b[39;49;00m\u001b[38;5;124;43m&page=\u001b[39;49m\u001b[38;5;132;43;01m{\u001b[39;49;00m\u001b[43mpages\u001b[49m\u001b[38;5;132;43;01m}\u001b[39;49;00m\u001b[38;5;124;43m\"\u001b[39;49m\u001b[43m)\u001b[49m\n\u001b[1;32m      5\u001b[0m soup \u001b[38;5;241m=\u001b[39m BeautifulSoup(result\u001b[38;5;241m.\u001b[39mtext, \u001b[38;5;124m\"\u001b[39m\u001b[38;5;124mhtml.parser\u001b[39m\u001b[38;5;124m\"\u001b[39m)\n\u001b[1;32m      6\u001b[0m infos\u001b[38;5;241m=\u001b[39m soup\u001b[38;5;241m.\u001b[39mfind_all(\u001b[38;5;124m\"\u001b[39m\u001b[38;5;124mdiv\u001b[39m\u001b[38;5;124m\"\u001b[39m, {\u001b[38;5;124m\"\u001b[39m\u001b[38;5;124mclass\u001b[39m\u001b[38;5;124m\"\u001b[39m:\u001b[38;5;124m\"\u001b[39m\u001b[38;5;124mlist_item\u001b[39m\u001b[38;5;124m\"\u001b[39m})\n",
      "File \u001b[0;32m/Library/Frameworks/Python.framework/Versions/3.9/lib/python3.9/site-packages/requests/api.py:75\u001b[0m, in \u001b[0;36mget\u001b[0;34m(url, params, **kwargs)\u001b[0m\n\u001b[1;32m     64\u001b[0m \u001b[38;5;28;01mdef\u001b[39;00m \u001b[38;5;21mget\u001b[39m(url, params\u001b[38;5;241m=\u001b[39m\u001b[38;5;28;01mNone\u001b[39;00m, \u001b[38;5;241m*\u001b[39m\u001b[38;5;241m*\u001b[39mkwargs):\n\u001b[1;32m     65\u001b[0m     \u001b[38;5;124mr\u001b[39m\u001b[38;5;124;03m\"\"\"Sends a GET request.\u001b[39;00m\n\u001b[1;32m     66\u001b[0m \n\u001b[1;32m     67\u001b[0m \u001b[38;5;124;03m    :param url: URL for the new :class:`Request` object.\u001b[39;00m\n\u001b[0;32m   (...)\u001b[0m\n\u001b[1;32m     72\u001b[0m \u001b[38;5;124;03m    :rtype: requests.Response\u001b[39;00m\n\u001b[1;32m     73\u001b[0m \u001b[38;5;124;03m    \"\"\"\u001b[39;00m\n\u001b[0;32m---> 75\u001b[0m     \u001b[38;5;28;01mreturn\u001b[39;00m \u001b[43mrequest\u001b[49m\u001b[43m(\u001b[49m\u001b[38;5;124;43m'\u001b[39;49m\u001b[38;5;124;43mget\u001b[39;49m\u001b[38;5;124;43m'\u001b[39;49m\u001b[43m,\u001b[49m\u001b[43m \u001b[49m\u001b[43murl\u001b[49m\u001b[43m,\u001b[49m\u001b[43m \u001b[49m\u001b[43mparams\u001b[49m\u001b[38;5;241;43m=\u001b[39;49m\u001b[43mparams\u001b[49m\u001b[43m,\u001b[49m\u001b[43m \u001b[49m\u001b[38;5;241;43m*\u001b[39;49m\u001b[38;5;241;43m*\u001b[39;49m\u001b[43mkwargs\u001b[49m\u001b[43m)\u001b[49m\n",
      "File \u001b[0;32m/Library/Frameworks/Python.framework/Versions/3.9/lib/python3.9/site-packages/requests/api.py:61\u001b[0m, in \u001b[0;36mrequest\u001b[0;34m(method, url, **kwargs)\u001b[0m\n\u001b[1;32m     57\u001b[0m \u001b[38;5;66;03m# By using the 'with' statement we are sure the session is closed, thus we\u001b[39;00m\n\u001b[1;32m     58\u001b[0m \u001b[38;5;66;03m# avoid leaving sockets open which can trigger a ResourceWarning in some\u001b[39;00m\n\u001b[1;32m     59\u001b[0m \u001b[38;5;66;03m# cases, and look like a memory leak in others.\u001b[39;00m\n\u001b[1;32m     60\u001b[0m \u001b[38;5;28;01mwith\u001b[39;00m sessions\u001b[38;5;241m.\u001b[39mSession() \u001b[38;5;28;01mas\u001b[39;00m session:\n\u001b[0;32m---> 61\u001b[0m     \u001b[38;5;28;01mreturn\u001b[39;00m \u001b[43msession\u001b[49m\u001b[38;5;241;43m.\u001b[39;49m\u001b[43mrequest\u001b[49m\u001b[43m(\u001b[49m\u001b[43mmethod\u001b[49m\u001b[38;5;241;43m=\u001b[39;49m\u001b[43mmethod\u001b[49m\u001b[43m,\u001b[49m\u001b[43m \u001b[49m\u001b[43murl\u001b[49m\u001b[38;5;241;43m=\u001b[39;49m\u001b[43murl\u001b[49m\u001b[43m,\u001b[49m\u001b[43m \u001b[49m\u001b[38;5;241;43m*\u001b[39;49m\u001b[38;5;241;43m*\u001b[39;49m\u001b[43mkwargs\u001b[49m\u001b[43m)\u001b[49m\n",
      "File \u001b[0;32m/Library/Frameworks/Python.framework/Versions/3.9/lib/python3.9/site-packages/requests/sessions.py:529\u001b[0m, in \u001b[0;36mSession.request\u001b[0;34m(self, method, url, params, data, headers, cookies, files, auth, timeout, allow_redirects, proxies, hooks, stream, verify, cert, json)\u001b[0m\n\u001b[1;32m    524\u001b[0m send_kwargs \u001b[38;5;241m=\u001b[39m {\n\u001b[1;32m    525\u001b[0m     \u001b[38;5;124m'\u001b[39m\u001b[38;5;124mtimeout\u001b[39m\u001b[38;5;124m'\u001b[39m: timeout,\n\u001b[1;32m    526\u001b[0m     \u001b[38;5;124m'\u001b[39m\u001b[38;5;124mallow_redirects\u001b[39m\u001b[38;5;124m'\u001b[39m: allow_redirects,\n\u001b[1;32m    527\u001b[0m }\n\u001b[1;32m    528\u001b[0m send_kwargs\u001b[38;5;241m.\u001b[39mupdate(settings)\n\u001b[0;32m--> 529\u001b[0m resp \u001b[38;5;241m=\u001b[39m \u001b[38;5;28;43mself\u001b[39;49m\u001b[38;5;241;43m.\u001b[39;49m\u001b[43msend\u001b[49m\u001b[43m(\u001b[49m\u001b[43mprep\u001b[49m\u001b[43m,\u001b[49m\u001b[43m \u001b[49m\u001b[38;5;241;43m*\u001b[39;49m\u001b[38;5;241;43m*\u001b[39;49m\u001b[43msend_kwargs\u001b[49m\u001b[43m)\u001b[49m\n\u001b[1;32m    531\u001b[0m \u001b[38;5;28;01mreturn\u001b[39;00m resp\n",
      "File \u001b[0;32m/Library/Frameworks/Python.framework/Versions/3.9/lib/python3.9/site-packages/requests/sessions.py:645\u001b[0m, in \u001b[0;36mSession.send\u001b[0;34m(self, request, **kwargs)\u001b[0m\n\u001b[1;32m    642\u001b[0m start \u001b[38;5;241m=\u001b[39m preferred_clock()\n\u001b[1;32m    644\u001b[0m \u001b[38;5;66;03m# Send the request\u001b[39;00m\n\u001b[0;32m--> 645\u001b[0m r \u001b[38;5;241m=\u001b[39m \u001b[43madapter\u001b[49m\u001b[38;5;241;43m.\u001b[39;49m\u001b[43msend\u001b[49m\u001b[43m(\u001b[49m\u001b[43mrequest\u001b[49m\u001b[43m,\u001b[49m\u001b[43m \u001b[49m\u001b[38;5;241;43m*\u001b[39;49m\u001b[38;5;241;43m*\u001b[39;49m\u001b[43mkwargs\u001b[49m\u001b[43m)\u001b[49m\n\u001b[1;32m    647\u001b[0m \u001b[38;5;66;03m# Total elapsed time of the request (approximately)\u001b[39;00m\n\u001b[1;32m    648\u001b[0m elapsed \u001b[38;5;241m=\u001b[39m preferred_clock() \u001b[38;5;241m-\u001b[39m start\n",
      "File \u001b[0;32m/Library/Frameworks/Python.framework/Versions/3.9/lib/python3.9/site-packages/requests/adapters.py:440\u001b[0m, in \u001b[0;36mHTTPAdapter.send\u001b[0;34m(self, request, stream, timeout, verify, cert, proxies)\u001b[0m\n\u001b[1;32m    438\u001b[0m \u001b[38;5;28;01mtry\u001b[39;00m:\n\u001b[1;32m    439\u001b[0m     \u001b[38;5;28;01mif\u001b[39;00m \u001b[38;5;129;01mnot\u001b[39;00m chunked:\n\u001b[0;32m--> 440\u001b[0m         resp \u001b[38;5;241m=\u001b[39m \u001b[43mconn\u001b[49m\u001b[38;5;241;43m.\u001b[39;49m\u001b[43murlopen\u001b[49m\u001b[43m(\u001b[49m\n\u001b[1;32m    441\u001b[0m \u001b[43m            \u001b[49m\u001b[43mmethod\u001b[49m\u001b[38;5;241;43m=\u001b[39;49m\u001b[43mrequest\u001b[49m\u001b[38;5;241;43m.\u001b[39;49m\u001b[43mmethod\u001b[49m\u001b[43m,\u001b[49m\n\u001b[1;32m    442\u001b[0m \u001b[43m            \u001b[49m\u001b[43murl\u001b[49m\u001b[38;5;241;43m=\u001b[39;49m\u001b[43murl\u001b[49m\u001b[43m,\u001b[49m\n\u001b[1;32m    443\u001b[0m \u001b[43m            \u001b[49m\u001b[43mbody\u001b[49m\u001b[38;5;241;43m=\u001b[39;49m\u001b[43mrequest\u001b[49m\u001b[38;5;241;43m.\u001b[39;49m\u001b[43mbody\u001b[49m\u001b[43m,\u001b[49m\n\u001b[1;32m    444\u001b[0m \u001b[43m            \u001b[49m\u001b[43mheaders\u001b[49m\u001b[38;5;241;43m=\u001b[39;49m\u001b[43mrequest\u001b[49m\u001b[38;5;241;43m.\u001b[39;49m\u001b[43mheaders\u001b[49m\u001b[43m,\u001b[49m\n\u001b[1;32m    445\u001b[0m \u001b[43m            \u001b[49m\u001b[43mredirect\u001b[49m\u001b[38;5;241;43m=\u001b[39;49m\u001b[38;5;28;43;01mFalse\u001b[39;49;00m\u001b[43m,\u001b[49m\n\u001b[1;32m    446\u001b[0m \u001b[43m            \u001b[49m\u001b[43massert_same_host\u001b[49m\u001b[38;5;241;43m=\u001b[39;49m\u001b[38;5;28;43;01mFalse\u001b[39;49;00m\u001b[43m,\u001b[49m\n\u001b[1;32m    447\u001b[0m \u001b[43m            \u001b[49m\u001b[43mpreload_content\u001b[49m\u001b[38;5;241;43m=\u001b[39;49m\u001b[38;5;28;43;01mFalse\u001b[39;49;00m\u001b[43m,\u001b[49m\n\u001b[1;32m    448\u001b[0m \u001b[43m            \u001b[49m\u001b[43mdecode_content\u001b[49m\u001b[38;5;241;43m=\u001b[39;49m\u001b[38;5;28;43;01mFalse\u001b[39;49;00m\u001b[43m,\u001b[49m\n\u001b[1;32m    449\u001b[0m \u001b[43m            \u001b[49m\u001b[43mretries\u001b[49m\u001b[38;5;241;43m=\u001b[39;49m\u001b[38;5;28;43mself\u001b[39;49m\u001b[38;5;241;43m.\u001b[39;49m\u001b[43mmax_retries\u001b[49m\u001b[43m,\u001b[49m\n\u001b[1;32m    450\u001b[0m \u001b[43m            \u001b[49m\u001b[43mtimeout\u001b[49m\u001b[38;5;241;43m=\u001b[39;49m\u001b[43mtimeout\u001b[49m\n\u001b[1;32m    451\u001b[0m \u001b[43m        \u001b[49m\u001b[43m)\u001b[49m\n\u001b[1;32m    453\u001b[0m     \u001b[38;5;66;03m# Send the request.\u001b[39;00m\n\u001b[1;32m    454\u001b[0m     \u001b[38;5;28;01melse\u001b[39;00m:\n\u001b[1;32m    455\u001b[0m         \u001b[38;5;28;01mif\u001b[39;00m \u001b[38;5;28mhasattr\u001b[39m(conn, \u001b[38;5;124m'\u001b[39m\u001b[38;5;124mproxy_pool\u001b[39m\u001b[38;5;124m'\u001b[39m):\n",
      "File \u001b[0;32m/Library/Frameworks/Python.framework/Versions/3.9/lib/python3.9/site-packages/urllib3/connectionpool.py:703\u001b[0m, in \u001b[0;36mHTTPConnectionPool.urlopen\u001b[0;34m(self, method, url, body, headers, retries, redirect, assert_same_host, timeout, pool_timeout, release_conn, chunked, body_pos, **response_kw)\u001b[0m\n\u001b[1;32m    700\u001b[0m     \u001b[38;5;28mself\u001b[39m\u001b[38;5;241m.\u001b[39m_prepare_proxy(conn)\n\u001b[1;32m    702\u001b[0m \u001b[38;5;66;03m# Make the request on the httplib connection object.\u001b[39;00m\n\u001b[0;32m--> 703\u001b[0m httplib_response \u001b[38;5;241m=\u001b[39m \u001b[38;5;28;43mself\u001b[39;49m\u001b[38;5;241;43m.\u001b[39;49m\u001b[43m_make_request\u001b[49m\u001b[43m(\u001b[49m\n\u001b[1;32m    704\u001b[0m \u001b[43m    \u001b[49m\u001b[43mconn\u001b[49m\u001b[43m,\u001b[49m\n\u001b[1;32m    705\u001b[0m \u001b[43m    \u001b[49m\u001b[43mmethod\u001b[49m\u001b[43m,\u001b[49m\n\u001b[1;32m    706\u001b[0m \u001b[43m    \u001b[49m\u001b[43murl\u001b[49m\u001b[43m,\u001b[49m\n\u001b[1;32m    707\u001b[0m \u001b[43m    \u001b[49m\u001b[43mtimeout\u001b[49m\u001b[38;5;241;43m=\u001b[39;49m\u001b[43mtimeout_obj\u001b[49m\u001b[43m,\u001b[49m\n\u001b[1;32m    708\u001b[0m \u001b[43m    \u001b[49m\u001b[43mbody\u001b[49m\u001b[38;5;241;43m=\u001b[39;49m\u001b[43mbody\u001b[49m\u001b[43m,\u001b[49m\n\u001b[1;32m    709\u001b[0m \u001b[43m    \u001b[49m\u001b[43mheaders\u001b[49m\u001b[38;5;241;43m=\u001b[39;49m\u001b[43mheaders\u001b[49m\u001b[43m,\u001b[49m\n\u001b[1;32m    710\u001b[0m \u001b[43m    \u001b[49m\u001b[43mchunked\u001b[49m\u001b[38;5;241;43m=\u001b[39;49m\u001b[43mchunked\u001b[49m\u001b[43m,\u001b[49m\n\u001b[1;32m    711\u001b[0m \u001b[43m\u001b[49m\u001b[43m)\u001b[49m\n\u001b[1;32m    713\u001b[0m \u001b[38;5;66;03m# If we're going to release the connection in ``finally:``, then\u001b[39;00m\n\u001b[1;32m    714\u001b[0m \u001b[38;5;66;03m# the response doesn't need to know about the connection. Otherwise\u001b[39;00m\n\u001b[1;32m    715\u001b[0m \u001b[38;5;66;03m# it will also try to release it and we'll have a double-release\u001b[39;00m\n\u001b[1;32m    716\u001b[0m \u001b[38;5;66;03m# mess.\u001b[39;00m\n\u001b[1;32m    717\u001b[0m response_conn \u001b[38;5;241m=\u001b[39m conn \u001b[38;5;28;01mif\u001b[39;00m \u001b[38;5;129;01mnot\u001b[39;00m release_conn \u001b[38;5;28;01melse\u001b[39;00m \u001b[38;5;28;01mNone\u001b[39;00m\n",
      "File \u001b[0;32m/Library/Frameworks/Python.framework/Versions/3.9/lib/python3.9/site-packages/urllib3/connectionpool.py:449\u001b[0m, in \u001b[0;36mHTTPConnectionPool._make_request\u001b[0;34m(self, conn, method, url, timeout, chunked, **httplib_request_kw)\u001b[0m\n\u001b[1;32m    444\u001b[0m             httplib_response \u001b[38;5;241m=\u001b[39m conn\u001b[38;5;241m.\u001b[39mgetresponse()\n\u001b[1;32m    445\u001b[0m         \u001b[38;5;28;01mexcept\u001b[39;00m \u001b[38;5;167;01mBaseException\u001b[39;00m \u001b[38;5;28;01mas\u001b[39;00m e:\n\u001b[1;32m    446\u001b[0m             \u001b[38;5;66;03m# Remove the TypeError from the exception chain in\u001b[39;00m\n\u001b[1;32m    447\u001b[0m             \u001b[38;5;66;03m# Python 3 (including for exceptions like SystemExit).\u001b[39;00m\n\u001b[1;32m    448\u001b[0m             \u001b[38;5;66;03m# Otherwise it looks like a bug in the code.\u001b[39;00m\n\u001b[0;32m--> 449\u001b[0m             \u001b[43msix\u001b[49m\u001b[38;5;241;43m.\u001b[39;49m\u001b[43mraise_from\u001b[49m\u001b[43m(\u001b[49m\u001b[43me\u001b[49m\u001b[43m,\u001b[49m\u001b[43m \u001b[49m\u001b[38;5;28;43;01mNone\u001b[39;49;00m\u001b[43m)\u001b[49m\n\u001b[1;32m    450\u001b[0m \u001b[38;5;28;01mexcept\u001b[39;00m (SocketTimeout, BaseSSLError, SocketError) \u001b[38;5;28;01mas\u001b[39;00m e:\n\u001b[1;32m    451\u001b[0m     \u001b[38;5;28mself\u001b[39m\u001b[38;5;241m.\u001b[39m_raise_timeout(err\u001b[38;5;241m=\u001b[39me, url\u001b[38;5;241m=\u001b[39murl, timeout_value\u001b[38;5;241m=\u001b[39mread_timeout)\n",
      "File \u001b[0;32m<string>:3\u001b[0m, in \u001b[0;36mraise_from\u001b[0;34m(value, from_value)\u001b[0m\n",
      "File \u001b[0;32m/Library/Frameworks/Python.framework/Versions/3.9/lib/python3.9/site-packages/urllib3/connectionpool.py:444\u001b[0m, in \u001b[0;36mHTTPConnectionPool._make_request\u001b[0;34m(self, conn, method, url, timeout, chunked, **httplib_request_kw)\u001b[0m\n\u001b[1;32m    441\u001b[0m \u001b[38;5;28;01mexcept\u001b[39;00m \u001b[38;5;167;01mTypeError\u001b[39;00m:\n\u001b[1;32m    442\u001b[0m     \u001b[38;5;66;03m# Python 3\u001b[39;00m\n\u001b[1;32m    443\u001b[0m     \u001b[38;5;28;01mtry\u001b[39;00m:\n\u001b[0;32m--> 444\u001b[0m         httplib_response \u001b[38;5;241m=\u001b[39m \u001b[43mconn\u001b[49m\u001b[38;5;241;43m.\u001b[39;49m\u001b[43mgetresponse\u001b[49m\u001b[43m(\u001b[49m\u001b[43m)\u001b[49m\n\u001b[1;32m    445\u001b[0m     \u001b[38;5;28;01mexcept\u001b[39;00m \u001b[38;5;167;01mBaseException\u001b[39;00m \u001b[38;5;28;01mas\u001b[39;00m e:\n\u001b[1;32m    446\u001b[0m         \u001b[38;5;66;03m# Remove the TypeError from the exception chain in\u001b[39;00m\n\u001b[1;32m    447\u001b[0m         \u001b[38;5;66;03m# Python 3 (including for exceptions like SystemExit).\u001b[39;00m\n\u001b[1;32m    448\u001b[0m         \u001b[38;5;66;03m# Otherwise it looks like a bug in the code.\u001b[39;00m\n\u001b[1;32m    449\u001b[0m         six\u001b[38;5;241m.\u001b[39mraise_from(e, \u001b[38;5;28;01mNone\u001b[39;00m)\n",
      "File \u001b[0;32m/Library/Frameworks/Python.framework/Versions/3.9/lib/python3.9/http/client.py:1347\u001b[0m, in \u001b[0;36mHTTPConnection.getresponse\u001b[0;34m(self)\u001b[0m\n\u001b[1;32m   1345\u001b[0m \u001b[38;5;28;01mtry\u001b[39;00m:\n\u001b[1;32m   1346\u001b[0m     \u001b[38;5;28;01mtry\u001b[39;00m:\n\u001b[0;32m-> 1347\u001b[0m         \u001b[43mresponse\u001b[49m\u001b[38;5;241;43m.\u001b[39;49m\u001b[43mbegin\u001b[49m\u001b[43m(\u001b[49m\u001b[43m)\u001b[49m\n\u001b[1;32m   1348\u001b[0m     \u001b[38;5;28;01mexcept\u001b[39;00m \u001b[38;5;167;01mConnectionError\u001b[39;00m:\n\u001b[1;32m   1349\u001b[0m         \u001b[38;5;28mself\u001b[39m\u001b[38;5;241m.\u001b[39mclose()\n",
      "File \u001b[0;32m/Library/Frameworks/Python.framework/Versions/3.9/lib/python3.9/http/client.py:307\u001b[0m, in \u001b[0;36mHTTPResponse.begin\u001b[0;34m(self)\u001b[0m\n\u001b[1;32m    305\u001b[0m \u001b[38;5;66;03m# read until we get a non-100 response\u001b[39;00m\n\u001b[1;32m    306\u001b[0m \u001b[38;5;28;01mwhile\u001b[39;00m \u001b[38;5;28;01mTrue\u001b[39;00m:\n\u001b[0;32m--> 307\u001b[0m     version, status, reason \u001b[38;5;241m=\u001b[39m \u001b[38;5;28;43mself\u001b[39;49m\u001b[38;5;241;43m.\u001b[39;49m\u001b[43m_read_status\u001b[49m\u001b[43m(\u001b[49m\u001b[43m)\u001b[49m\n\u001b[1;32m    308\u001b[0m     \u001b[38;5;28;01mif\u001b[39;00m status \u001b[38;5;241m!=\u001b[39m CONTINUE:\n\u001b[1;32m    309\u001b[0m         \u001b[38;5;28;01mbreak\u001b[39;00m\n",
      "File \u001b[0;32m/Library/Frameworks/Python.framework/Versions/3.9/lib/python3.9/http/client.py:268\u001b[0m, in \u001b[0;36mHTTPResponse._read_status\u001b[0;34m(self)\u001b[0m\n\u001b[1;32m    267\u001b[0m \u001b[38;5;28;01mdef\u001b[39;00m \u001b[38;5;21m_read_status\u001b[39m(\u001b[38;5;28mself\u001b[39m):\n\u001b[0;32m--> 268\u001b[0m     line \u001b[38;5;241m=\u001b[39m \u001b[38;5;28mstr\u001b[39m(\u001b[38;5;28;43mself\u001b[39;49m\u001b[38;5;241;43m.\u001b[39;49m\u001b[43mfp\u001b[49m\u001b[38;5;241;43m.\u001b[39;49m\u001b[43mreadline\u001b[49m\u001b[43m(\u001b[49m\u001b[43m_MAXLINE\u001b[49m\u001b[43m \u001b[49m\u001b[38;5;241;43m+\u001b[39;49m\u001b[43m \u001b[49m\u001b[38;5;241;43m1\u001b[39;49m\u001b[43m)\u001b[49m, \u001b[38;5;124m\"\u001b[39m\u001b[38;5;124miso-8859-1\u001b[39m\u001b[38;5;124m\"\u001b[39m)\n\u001b[1;32m    269\u001b[0m     \u001b[38;5;28;01mif\u001b[39;00m \u001b[38;5;28mlen\u001b[39m(line) \u001b[38;5;241m>\u001b[39m _MAXLINE:\n\u001b[1;32m    270\u001b[0m         \u001b[38;5;28;01mraise\u001b[39;00m LineTooLong(\u001b[38;5;124m\"\u001b[39m\u001b[38;5;124mstatus line\u001b[39m\u001b[38;5;124m\"\u001b[39m)\n",
      "File \u001b[0;32m/Library/Frameworks/Python.framework/Versions/3.9/lib/python3.9/socket.py:704\u001b[0m, in \u001b[0;36mSocketIO.readinto\u001b[0;34m(self, b)\u001b[0m\n\u001b[1;32m    702\u001b[0m \u001b[38;5;28;01mwhile\u001b[39;00m \u001b[38;5;28;01mTrue\u001b[39;00m:\n\u001b[1;32m    703\u001b[0m     \u001b[38;5;28;01mtry\u001b[39;00m:\n\u001b[0;32m--> 704\u001b[0m         \u001b[38;5;28;01mreturn\u001b[39;00m \u001b[38;5;28;43mself\u001b[39;49m\u001b[38;5;241;43m.\u001b[39;49m\u001b[43m_sock\u001b[49m\u001b[38;5;241;43m.\u001b[39;49m\u001b[43mrecv_into\u001b[49m\u001b[43m(\u001b[49m\u001b[43mb\u001b[49m\u001b[43m)\u001b[49m\n\u001b[1;32m    705\u001b[0m     \u001b[38;5;28;01mexcept\u001b[39;00m timeout:\n\u001b[1;32m    706\u001b[0m         \u001b[38;5;28mself\u001b[39m\u001b[38;5;241m.\u001b[39m_timeout_occurred \u001b[38;5;241m=\u001b[39m \u001b[38;5;28;01mTrue\u001b[39;00m\n",
      "File \u001b[0;32m/Library/Frameworks/Python.framework/Versions/3.9/lib/python3.9/ssl.py:1241\u001b[0m, in \u001b[0;36mSSLSocket.recv_into\u001b[0;34m(self, buffer, nbytes, flags)\u001b[0m\n\u001b[1;32m   1237\u001b[0m     \u001b[38;5;28;01mif\u001b[39;00m flags \u001b[38;5;241m!=\u001b[39m \u001b[38;5;241m0\u001b[39m:\n\u001b[1;32m   1238\u001b[0m         \u001b[38;5;28;01mraise\u001b[39;00m \u001b[38;5;167;01mValueError\u001b[39;00m(\n\u001b[1;32m   1239\u001b[0m           \u001b[38;5;124m\"\u001b[39m\u001b[38;5;124mnon-zero flags not allowed in calls to recv_into() on \u001b[39m\u001b[38;5;132;01m%s\u001b[39;00m\u001b[38;5;124m\"\u001b[39m \u001b[38;5;241m%\u001b[39m\n\u001b[1;32m   1240\u001b[0m           \u001b[38;5;28mself\u001b[39m\u001b[38;5;241m.\u001b[39m\u001b[38;5;18m__class__\u001b[39m)\n\u001b[0;32m-> 1241\u001b[0m     \u001b[38;5;28;01mreturn\u001b[39;00m \u001b[38;5;28;43mself\u001b[39;49m\u001b[38;5;241;43m.\u001b[39;49m\u001b[43mread\u001b[49m\u001b[43m(\u001b[49m\u001b[43mnbytes\u001b[49m\u001b[43m,\u001b[49m\u001b[43m \u001b[49m\u001b[43mbuffer\u001b[49m\u001b[43m)\u001b[49m\n\u001b[1;32m   1242\u001b[0m \u001b[38;5;28;01melse\u001b[39;00m:\n\u001b[1;32m   1243\u001b[0m     \u001b[38;5;28;01mreturn\u001b[39;00m \u001b[38;5;28msuper\u001b[39m()\u001b[38;5;241m.\u001b[39mrecv_into(buffer, nbytes, flags)\n",
      "File \u001b[0;32m/Library/Frameworks/Python.framework/Versions/3.9/lib/python3.9/ssl.py:1099\u001b[0m, in \u001b[0;36mSSLSocket.read\u001b[0;34m(self, len, buffer)\u001b[0m\n\u001b[1;32m   1097\u001b[0m \u001b[38;5;28;01mtry\u001b[39;00m:\n\u001b[1;32m   1098\u001b[0m     \u001b[38;5;28;01mif\u001b[39;00m buffer \u001b[38;5;129;01mis\u001b[39;00m \u001b[38;5;129;01mnot\u001b[39;00m \u001b[38;5;28;01mNone\u001b[39;00m:\n\u001b[0;32m-> 1099\u001b[0m         \u001b[38;5;28;01mreturn\u001b[39;00m \u001b[38;5;28;43mself\u001b[39;49m\u001b[38;5;241;43m.\u001b[39;49m\u001b[43m_sslobj\u001b[49m\u001b[38;5;241;43m.\u001b[39;49m\u001b[43mread\u001b[49m\u001b[43m(\u001b[49m\u001b[38;5;28;43mlen\u001b[39;49m\u001b[43m,\u001b[49m\u001b[43m \u001b[49m\u001b[43mbuffer\u001b[49m\u001b[43m)\u001b[49m\n\u001b[1;32m   1100\u001b[0m     \u001b[38;5;28;01melse\u001b[39;00m:\n\u001b[1;32m   1101\u001b[0m         \u001b[38;5;28;01mreturn\u001b[39;00m \u001b[38;5;28mself\u001b[39m\u001b[38;5;241m.\u001b[39m_sslobj\u001b[38;5;241m.\u001b[39mread(\u001b[38;5;28mlen\u001b[39m)\n",
      "\u001b[0;31mKeyboardInterrupt\u001b[0m: "
     ]
    }
   ],
   "source": [
    "data = main()"
   ]
  },
  {
   "cell_type": "code",
   "execution_count": 11,
   "id": "b43678e6",
   "metadata": {
    "scrolled": true
   },
   "outputs": [
    {
     "ename": "NameError",
     "evalue": "name 'data' is not defined",
     "output_type": "error",
     "traceback": [
      "\u001b[0;31m---------------------------------------------------------------------------\u001b[0m",
      "\u001b[0;31mNameError\u001b[0m                                 Traceback (most recent call last)",
      "Input \u001b[0;32mIn [11]\u001b[0m, in \u001b[0;36m<module>\u001b[0;34m\u001b[0m\n\u001b[0;32m----> 1\u001b[0m pd\u001b[38;5;241m.\u001b[39mDataFrame(\u001b[43mdata\u001b[49m)\n",
      "\u001b[0;31mNameError\u001b[0m: name 'data' is not defined"
     ]
    }
   ],
   "source": [
    "pd.DataFrame(data)"
   ]
  },
  {
   "cell_type": "code",
   "execution_count": null,
   "id": "cd33b1ba",
   "metadata": {},
   "outputs": [],
   "source": []
  },
  {
   "cell_type": "code",
   "execution_count": null,
   "id": "8f36e441",
   "metadata": {},
   "outputs": [],
   "source": []
  }
 ],
 "metadata": {
  "kernelspec": {
   "display_name": "Python 3 (ipykernel)",
   "language": "python",
   "name": "python3"
  },
  "language_info": {
   "codemirror_mode": {
    "name": "ipython",
    "version": 3
   },
   "file_extension": ".py",
   "mimetype": "text/x-python",
   "name": "python",
   "nbconvert_exporter": "python",
   "pygments_lexer": "ipython3",
   "version": "3.9.0"
  }
 },
 "nbformat": 4,
 "nbformat_minor": 5
}
