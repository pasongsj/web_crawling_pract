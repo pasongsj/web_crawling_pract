{
 "cells": [
  {
   "cell_type": "code",
   "execution_count": 1,
   "id": "e7c64893",
   "metadata": {},
   "outputs": [],
   "source": [
    "import time\n",
    "start = time.time()\n",
    "from selenium import webdriver\n",
    "#from selenium.webdriver.common.keys import Keys\n",
    "from selenium.webdriver.common.by import By\n",
    "import pandas as pd\n",
    "import openpyxl\n",
    "\n",
    "#명시적대기 headless \n",
    "from selenium.webdriver.support.ui import WebDriverWait\n",
    "from selenium.webdriver.support import expected_conditions as EC\n",
    "\n",
    "options = webdriver.ChromeOptions()\n",
    "options.add_argument('headless')\n",
    "options.add_argument('user-agent=Mozilla/5.0 (Macintosh; Intel Mac OS X 10_15_7) AppleWebKit/537.36 (KHTML, like Gecko) Chrome/98.0.4758.80 Safari/537.36')\n",
    "\n",
    "#options.add_argument('window_size=1920x1080')\n",
    "#options.add_argument('--disable-gpu')\n",
    "\n",
    "LIMIT = 1"
   ]
  },
  {
   "cell_type": "code",
   "execution_count": 2,
   "id": "cfe137fd",
   "metadata": {},
   "outputs": [],
   "source": [
    "def get_stack(info):\n",
    "    \n",
    "    d_browser = webdriver.Chrome(\"/usr/local/bin/chromedriver\",chrome_options=options);\n",
    "    d_browser.implicitly_wait(2)\n",
    "    \n",
    "    for e_info in info:\n",
    "        d_url = 'https://www.saramin.co.kr/zf_user/jobs/relay/view?rec_idx='+e_info['idx']\n",
    "        #페이지 접속\n",
    "        d_browser.get(d_url)\n",
    "        #오류제거\n",
    "        wait = WebDriverWait(d_browser,20)\n",
    "        element = wait.until(EC.presence_of_element_located((By.CSS_SELECTOR,'.tags')))\n",
    "        #tag접근\n",
    "        tag_sec = d_browser.find_element(By.CSS_SELECTOR,'.tags')\n",
    "        stacks = tag_sec.find_element(By.CSS_SELECTOR,'.scroll')\n",
    "        tmps = stacks.find_elements(By.TAG_NAME, 'a')\n",
    "        #모든 태크 모으기\n",
    "        stack = []\n",
    "        for tmp in tmps:\n",
    "            url = tmp.get_attribute('href')\n",
    "            index = url.find('kewd')\n",
    "            if(index != -1):\n",
    "                stack.append(url[index+5:])\n",
    "        e_info[\"stack\"] = stack\n",
    "\n",
    "    d_browser.quit()\n",
    "    return info"
   ]
  },
  {
   "cell_type": "code",
   "execution_count": 3,
   "id": "9c4c3310",
   "metadata": {},
   "outputs": [],
   "source": [
    "\n",
    "def get_info(pages):\n",
    "    \n",
    "    global LIMIT\n",
    "    \n",
    "    URL = \"https://www.saramin.co.kr/zf_user/jobs/list/job-category?cat_mcls=2&sort=RD&page=\"+str(pages)\n",
    "    \n",
    "    browser = webdriver.Chrome(\"/usr/local/bin/chromedriver\",chrome_options = options);\t#chromedriver 위치\n",
    "    browser.get(URL);\t# 페이지 열기\n",
    "    browser.implicitly_wait(2)\n",
    "    #browser.execute_script(\"window.scrollTo(0,30)\")\n",
    "    \n",
    "    wait = WebDriverWait(browser,20)\n",
    "    element = wait.until(EC.presence_of_element_located((By.CSS_SELECTOR,'.common_recruilt_list')))\n",
    "    \n",
    "    if (pages == 1):\n",
    "        list_ = browser.find_element(By.CSS_SELECTOR,'.common_recruilt_list')\n",
    "        items = list_.find_elements(By.CSS_SELECTOR,'.list_item')\n",
    "    else:\n",
    "        items = browser.find_elements(By.CSS_SELECTOR,'.list_item')\n",
    "\n",
    "\n",
    "    ann_list = []\n",
    "    \n",
    "\n",
    "    for item in items:\n",
    "            \n",
    "        #print(item.text)\n",
    "        #id\n",
    "        idx = str(item.get_attribute('id')[4:])\n",
    "        #D_URL = 'https://www.saramin.co.kr/zf_user/jobs/relay/view?rec_idx='+idx\n",
    "        #stack = []\n",
    "        #stack = get_stack(D_URL)\n",
    "        # 회사\n",
    "        company = item.find_element(By.CSS_SELECTOR,\".company_nm\").find_element(By.TAG_NAME, 'a').text\n",
    "    \n",
    "        # 제목\n",
    "        title = item.find_element(By.CSS_SELECTOR,\".notification_info\").find_element(By.TAG_NAME, 'a').text\n",
    "    \n",
    "        # 경력\n",
    "        career = item.find_element(By.CSS_SELECTOR,\".career\").text\n",
    "    \n",
    "        # 학력\n",
    "        education = item.find_element(By.CSS_SELECTOR,\".education\").text\n",
    "    \n",
    "        # 근무형태\n",
    "        employment_type = item.find_element(By.CSS_SELECTOR,\".employment_type\").text\n",
    "    \n",
    "        # 근무 위치\n",
    "        try:\n",
    "            work_place = item.find_element(By.CSS_SELECTOR,\".work_place\").text\n",
    "        except Exception as e:\n",
    "            place = None\n",
    "        \n",
    "        #마감일,등록일\n",
    "        time = item.find_element(By.CSS_SELECTOR,\".deadlines\").text.split('\\n')\n",
    "        #마감\n",
    "        deadline = time[0]\n",
    "        #등록\n",
    "        reg_date = time[1]\n",
    "        #print(reg_date)\n",
    "        \n",
    "        #오늘 공고만\n",
    "        if(reg_date == '(1일 전 등록)'):\n",
    "            LIMIT = 0\n",
    "            return ann_list\n",
    "        info = {'title':title, 'company':company, 'career':career, 'education':education,\n",
    "                'employment_type' :employment_type,  'workc_place':work_place,\n",
    "                'idx':idx}#,'deadline': deadline, ,'reg':reg_date}\n",
    "\n",
    "        ann_list.append(info)\n",
    "        \n",
    "    \n",
    "    \n",
    "    browser.quit()\n",
    "    return ann_list\n"
   ]
  },
  {
   "cell_type": "code",
   "execution_count": 4,
   "id": "bc9401c0",
   "metadata": {},
   "outputs": [],
   "source": [
    "def main():\n",
    "    global LIMIT\n",
    "    info = []\n",
    "    pages = 1   \n",
    "    while(LIMIT):\n",
    "        info.extend(get_info(pages))\n",
    "        pages = pages + 1\n",
    "\n",
    "    result = get_stack(info)\n",
    "    return result\n",
    "    \n",
    "    "
   ]
  },
  {
   "cell_type": "code",
   "execution_count": 5,
   "id": "50535e06",
   "metadata": {
    "scrolled": false
   },
   "outputs": [
    {
     "name": "stderr",
     "output_type": "stream",
     "text": [
      "/var/folders/8l/z4qr6xns7sb_mbw_25xwx0cm0000gn/T/ipykernel_4548/3603556646.py:7: DeprecationWarning: executable_path has been deprecated, please pass in a Service object\n",
      "  browser = webdriver.Chrome(\"/usr/local/bin/chromedriver\",chrome_options = options);\t#chromedriver 위치\n",
      "/var/folders/8l/z4qr6xns7sb_mbw_25xwx0cm0000gn/T/ipykernel_4548/3603556646.py:7: DeprecationWarning: use options instead of chrome_options\n",
      "  browser = webdriver.Chrome(\"/usr/local/bin/chromedriver\",chrome_options = options);\t#chromedriver 위치\n",
      "/var/folders/8l/z4qr6xns7sb_mbw_25xwx0cm0000gn/T/ipykernel_4548/2684362449.py:3: DeprecationWarning: executable_path has been deprecated, please pass in a Service object\n",
      "  d_browser = webdriver.Chrome(\"/usr/local/bin/chromedriver\",chrome_options=options);\n",
      "/var/folders/8l/z4qr6xns7sb_mbw_25xwx0cm0000gn/T/ipykernel_4548/2684362449.py:3: DeprecationWarning: use options instead of chrome_options\n",
      "  d_browser = webdriver.Chrome(\"/usr/local/bin/chromedriver\",chrome_options=options);\n"
     ]
    }
   ],
   "source": [
    "data = main()"
   ]
  },
  {
   "cell_type": "markdown",
   "id": "302144fc",
   "metadata": {},
   "source": []
  },
  {
   "cell_type": "code",
   "execution_count": 6,
   "id": "78e6ddde",
   "metadata": {},
   "outputs": [
    {
     "name": "stdout",
     "output_type": "stream",
     "text": [
      "2234.4762251377106\n"
     ]
    }
   ],
   "source": [
    "end = time.time()\n",
    "print(format(end-start))"
   ]
  },
  {
   "cell_type": "code",
   "execution_count": 7,
   "id": "10ba160a",
   "metadata": {},
   "outputs": [],
   "source": [
    "dataA = pd.DataFrame(data)"
   ]
  },
  {
   "cell_type": "code",
   "execution_count": 8,
   "id": "2ef58acf",
   "metadata": {},
   "outputs": [],
   "source": [
    "dataA.to_excel('220210_selenium.xlsx')"
   ]
  },
  {
   "cell_type": "code",
   "execution_count": null,
   "id": "fac7f1c0",
   "metadata": {},
   "outputs": [],
   "source": []
  },
  {
   "cell_type": "code",
   "execution_count": null,
   "id": "a6f603bc",
   "metadata": {},
   "outputs": [],
   "source": []
  }
 ],
 "metadata": {
  "kernelspec": {
   "display_name": "Python 3 (ipykernel)",
   "language": "python",
   "name": "python3"
  },
  "language_info": {
   "codemirror_mode": {
    "name": "ipython",
    "version": 3
   },
   "file_extension": ".py",
   "mimetype": "text/x-python",
   "name": "python",
   "nbconvert_exporter": "python",
   "pygments_lexer": "ipython3",
   "version": "3.9.0"
  }
 },
 "nbformat": 4,
 "nbformat_minor": 5
}
