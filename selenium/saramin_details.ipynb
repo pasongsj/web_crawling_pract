{
 "cells": [
  {
   "cell_type": "code",
   "execution_count": 1,
   "id": "e7c64893",
   "metadata": {},
   "outputs": [],
   "source": [
    "from selenium import webdriver\n",
    "from selenium.webdriver.common.keys import Keys\n",
    "from selenium.webdriver.common.by import By\n",
    "import pandas as pd\n",
    "options = webdriver.ChromeOptions()\n",
    "options.add_argument('headless')\n",
    "#options.add_argument('window_size=1920x1080')\n",
    "#options.add_argument('disable-gpu')\n",
    "\n",
    "LIMIT = 1"
   ]
  },
  {
   "cell_type": "code",
   "execution_count": 2,
   "id": "cfe137fd",
   "metadata": {},
   "outputs": [],
   "source": [
    "def get_stack(d_url):\n",
    "    \n",
    "    d_browser = webdriver.Chrome(\"/usr/local/bin/chromedriver\")#,chrome_options=options);\n",
    "    d_browser.get(d_url)\n",
    "\n",
    "    d_browser.implicitly_wait(2)\n",
    "    \n",
    "    tag_sec = d_browser.find_element(By.CSS_SELECTOR,'.tags')\n",
    "    stacks = tag_sec.find_element(By.CSS_SELECTOR,'.scroll')\n",
    "    tmps = stacks.find_elements(By.TAG_NAME, 'a')\n",
    "    stack = []\n",
    "    for tmp in tmps:\n",
    "        url = tmp.get_attribute('href')\n",
    "        index = url.find('kewd')\n",
    "        if(index != -1):\n",
    "            stack.append(url[index+5:])\n",
    "    d_browser.quit()\n",
    "    return stack\n",
    "    "
   ]
  },
  {
   "cell_type": "code",
   "execution_count": 3,
   "id": "9c4c3310",
   "metadata": {},
   "outputs": [],
   "source": [
    "def get_info(URL):\n",
    "    \n",
    "    global LIMIT\n",
    "    browser = webdriver.Chrome(\"/usr/local/bin/chromedriver\")#,chrome_options = options);\t#chromedriver 위치\n",
    "    browser.get(URL);\t# 페이지 열기\n",
    "    browser.implicitly_wait(2)\n",
    "    \n",
    "    items = browser.find_elements(By.CSS_SELECTOR,'.list_item')\n",
    "\n",
    "    \n",
    "    ann_list = []\n",
    "    for item in items:\n",
    "        #id\n",
    "        idx = item.get_attribute('id')[4:]\n",
    "        D_URL = 'https://www.saramin.co.kr/zf_user/jobs/relay/view?rec_idx='+idx\n",
    "        #stack = []\n",
    "        stack = get_stack(D_URL)\n",
    "        # 회사\n",
    "        company = item.find_element(By.CSS_SELECTOR,\".company_nm\").find_element(By.TAG_NAME, 'a').text\n",
    "    \n",
    "        # 제목\n",
    "        title = item.find_element(By.CSS_SELECTOR,\".notification_info\").find_element(By.TAG_NAME, 'a').text\n",
    "    \n",
    "        # 경력\n",
    "        career = item.find_element(By.CSS_SELECTOR,\".career\").text\n",
    "    \n",
    "        # 학력\n",
    "        education = item.find_element(By.CSS_SELECTOR,\".education\").text\n",
    "    \n",
    "        # 근무형태\n",
    "        employment_type = item.find_element(By.CSS_SELECTOR,\".employment_type\").text\n",
    "    \n",
    "        # 근무 위치\n",
    "        try:\n",
    "            work_place = item.find_element(By.CSS_SELECTOR,\".work_place\").text\n",
    "        except Exception as e:\n",
    "            place = None\n",
    "        \n",
    "        #마감일,등록일\n",
    "        time = item.find_element(By.CSS_SELECTOR,\".deadlines\").text.split('\\n')\n",
    "        deadline = time[0]\n",
    "        reg_date = time[1]\n",
    "        print(reg_date)\n",
    "        if(reg_date == '(1일 전 등록)'):\n",
    "            LIMIT = 0\n",
    "            return ann_list\n",
    "        info = {'company' : company, 'title' : title, 'stack': stack, 'career' : career, \n",
    "            'education' : education, 'em_type' : employment_type, 'work_place':work_place, 'deadeline' : deadline }\n",
    "        ann_list.append(info)\n",
    "        #print(info)\n",
    "    browser.quit()\n",
    "    return ann_list\n"
   ]
  },
  {
   "cell_type": "code",
   "execution_count": 6,
   "id": "bc9401c0",
   "metadata": {},
   "outputs": [],
   "source": [
    "def main():\n",
    "    global LIMIT\n",
    "    info = []\n",
    "    pages = 2\n",
    "    #browser = webdriver.Chrome(\"/usr/local/bin/chromedriver\")#,chrome_options = options);\t#chromedriver 위치\n",
    "    while(LIMIT):\n",
    "        URL = \"https://www.saramin.co.kr/zf_user/jobs/list/job-category?cat_mcls=2&sort=RD&page=\"+str(pages)\n",
    "        \n",
    "        get_info(URL)\n",
    "        pages = pages + 1\n",
    "\n",
    "    return info\n",
    "    "
   ]
  },
  {
   "cell_type": "code",
   "execution_count": 7,
   "id": "50535e06",
   "metadata": {},
   "outputs": [
    {
     "name": "stderr",
     "output_type": "stream",
     "text": [
      "/var/folders/8l/z4qr6xns7sb_mbw_25xwx0cm0000gn/T/ipykernel_16872/2711619009.py:4: DeprecationWarning: executable_path has been deprecated, please pass in a Service object\n",
      "  browser = webdriver.Chrome(\"/usr/local/bin/chromedriver\")#,chrome_options = options);\t#chromedriver 위치\n",
      "/var/folders/8l/z4qr6xns7sb_mbw_25xwx0cm0000gn/T/ipykernel_16872/3218640867.py:3: DeprecationWarning: executable_path has been deprecated, please pass in a Service object\n",
      "  d_browser = webdriver.Chrome(\"/usr/local/bin/chromedriver\")#,chrome_options=options);\n"
     ]
    },
    {
     "name": "stdout",
     "output_type": "stream",
     "text": [
      "(2시간 전 등록)\n",
      "(2시간 전 등록)\n"
     ]
    },
    {
     "ename": "KeyboardInterrupt",
     "evalue": "",
     "output_type": "error",
     "traceback": [
      "\u001b[0;31m---------------------------------------------------------------------------\u001b[0m",
      "\u001b[0;31mKeyboardInterrupt\u001b[0m                         Traceback (most recent call last)",
      "Input \u001b[0;32mIn [7]\u001b[0m, in \u001b[0;36m<module>\u001b[0;34m\u001b[0m\n\u001b[0;32m----> 1\u001b[0m \u001b[43mmain\u001b[49m\u001b[43m(\u001b[49m\u001b[43m)\u001b[49m\n",
      "Input \u001b[0;32mIn [6]\u001b[0m, in \u001b[0;36mmain\u001b[0;34m()\u001b[0m\n\u001b[1;32m      6\u001b[0m \u001b[38;5;28;01mwhile\u001b[39;00m(LIMIT):\n\u001b[1;32m      7\u001b[0m     URL \u001b[38;5;241m=\u001b[39m \u001b[38;5;124m\"\u001b[39m\u001b[38;5;124mhttps://www.saramin.co.kr/zf_user/jobs/list/job-category?cat_mcls=2&sort=RD&page=\u001b[39m\u001b[38;5;124m\"\u001b[39m\u001b[38;5;241m+\u001b[39m\u001b[38;5;28mstr\u001b[39m(pages)\n\u001b[0;32m----> 9\u001b[0m     \u001b[43mget_info\u001b[49m\u001b[43m(\u001b[49m\u001b[43mURL\u001b[49m\u001b[43m)\u001b[49m\n\u001b[1;32m     10\u001b[0m     pages \u001b[38;5;241m=\u001b[39m pages \u001b[38;5;241m+\u001b[39m \u001b[38;5;241m1\u001b[39m\n\u001b[1;32m     12\u001b[0m \u001b[38;5;28;01mreturn\u001b[39;00m info\n",
      "Input \u001b[0;32mIn [3]\u001b[0m, in \u001b[0;36mget_info\u001b[0;34m(URL)\u001b[0m\n\u001b[1;32m     15\u001b[0m D_URL \u001b[38;5;241m=\u001b[39m \u001b[38;5;124m'\u001b[39m\u001b[38;5;124mhttps://www.saramin.co.kr/zf_user/jobs/relay/view?rec_idx=\u001b[39m\u001b[38;5;124m'\u001b[39m\u001b[38;5;241m+\u001b[39midx\n\u001b[1;32m     16\u001b[0m \u001b[38;5;66;03m#stack = []\u001b[39;00m\n\u001b[0;32m---> 17\u001b[0m stack \u001b[38;5;241m=\u001b[39m \u001b[43mget_stack\u001b[49m\u001b[43m(\u001b[49m\u001b[43mD_URL\u001b[49m\u001b[43m)\u001b[49m\n\u001b[1;32m     18\u001b[0m \u001b[38;5;66;03m# 회사\u001b[39;00m\n\u001b[1;32m     19\u001b[0m company \u001b[38;5;241m=\u001b[39m item\u001b[38;5;241m.\u001b[39mfind_element(By\u001b[38;5;241m.\u001b[39mCSS_SELECTOR,\u001b[38;5;124m\"\u001b[39m\u001b[38;5;124m.company_nm\u001b[39m\u001b[38;5;124m\"\u001b[39m)\u001b[38;5;241m.\u001b[39mfind_element(By\u001b[38;5;241m.\u001b[39mTAG_NAME, \u001b[38;5;124m'\u001b[39m\u001b[38;5;124ma\u001b[39m\u001b[38;5;124m'\u001b[39m)\u001b[38;5;241m.\u001b[39mtext\n",
      "Input \u001b[0;32mIn [2]\u001b[0m, in \u001b[0;36mget_stack\u001b[0;34m(d_url)\u001b[0m\n\u001b[1;32m      1\u001b[0m \u001b[38;5;28;01mdef\u001b[39;00m \u001b[38;5;21mget_stack\u001b[39m(d_url):\n\u001b[0;32m----> 3\u001b[0m     d_browser \u001b[38;5;241m=\u001b[39m \u001b[43mwebdriver\u001b[49m\u001b[38;5;241;43m.\u001b[39;49m\u001b[43mChrome\u001b[49m\u001b[43m(\u001b[49m\u001b[38;5;124;43m\"\u001b[39;49m\u001b[38;5;124;43m/usr/local/bin/chromedriver\u001b[39;49m\u001b[38;5;124;43m\"\u001b[39;49m\u001b[43m)\u001b[49m\u001b[38;5;66;03m#,chrome_options=options);\u001b[39;00m\n\u001b[1;32m      4\u001b[0m     d_browser\u001b[38;5;241m.\u001b[39mget(d_url)\n\u001b[1;32m      6\u001b[0m     d_browser\u001b[38;5;241m.\u001b[39mimplicitly_wait(\u001b[38;5;241m2\u001b[39m)\n",
      "File \u001b[0;32m/Library/Frameworks/Python.framework/Versions/3.9/lib/python3.9/site-packages/selenium/webdriver/chrome/webdriver.py:70\u001b[0m, in \u001b[0;36mWebDriver.__init__\u001b[0;34m(self, executable_path, port, options, service_args, desired_capabilities, service_log_path, chrome_options, service, keep_alive)\u001b[0m\n\u001b[1;32m     67\u001b[0m \u001b[38;5;28;01mif\u001b[39;00m \u001b[38;5;129;01mnot\u001b[39;00m service:\n\u001b[1;32m     68\u001b[0m     service \u001b[38;5;241m=\u001b[39m Service(executable_path, port, service_args, service_log_path)\n\u001b[0;32m---> 70\u001b[0m \u001b[38;5;28;43msuper\u001b[39;49m\u001b[43m(\u001b[49m\u001b[43mWebDriver\u001b[49m\u001b[43m,\u001b[49m\u001b[43m \u001b[49m\u001b[38;5;28;43mself\u001b[39;49m\u001b[43m)\u001b[49m\u001b[38;5;241;43m.\u001b[39;49m\u001b[38;5;21;43m__init__\u001b[39;49m\u001b[43m(\u001b[49m\u001b[43mDesiredCapabilities\u001b[49m\u001b[38;5;241;43m.\u001b[39;49m\u001b[43mCHROME\u001b[49m\u001b[43m[\u001b[49m\u001b[38;5;124;43m'\u001b[39;49m\u001b[38;5;124;43mbrowserName\u001b[39;49m\u001b[38;5;124;43m'\u001b[39;49m\u001b[43m]\u001b[49m\u001b[43m,\u001b[49m\u001b[43m \u001b[49m\u001b[38;5;124;43m\"\u001b[39;49m\u001b[38;5;124;43mgoog\u001b[39;49m\u001b[38;5;124;43m\"\u001b[39;49m\u001b[43m,\u001b[49m\n\u001b[1;32m     71\u001b[0m \u001b[43m                                \u001b[49m\u001b[43mport\u001b[49m\u001b[43m,\u001b[49m\u001b[43m \u001b[49m\u001b[43moptions\u001b[49m\u001b[43m,\u001b[49m\n\u001b[1;32m     72\u001b[0m \u001b[43m                                \u001b[49m\u001b[43mservice_args\u001b[49m\u001b[43m,\u001b[49m\u001b[43m \u001b[49m\u001b[43mdesired_capabilities\u001b[49m\u001b[43m,\u001b[49m\n\u001b[1;32m     73\u001b[0m \u001b[43m                                \u001b[49m\u001b[43mservice_log_path\u001b[49m\u001b[43m,\u001b[49m\u001b[43m \u001b[49m\u001b[43mservice\u001b[49m\u001b[43m,\u001b[49m\u001b[43m \u001b[49m\u001b[43mkeep_alive\u001b[49m\u001b[43m)\u001b[49m\n",
      "File \u001b[0;32m/Library/Frameworks/Python.framework/Versions/3.9/lib/python3.9/site-packages/selenium/webdriver/chromium/webdriver.py:90\u001b[0m, in \u001b[0;36mChromiumDriver.__init__\u001b[0;34m(self, browser_name, vendor_prefix, port, options, service_args, desired_capabilities, service_log_path, service, keep_alive)\u001b[0m\n\u001b[1;32m     87\u001b[0m     \u001b[38;5;28;01mraise\u001b[39;00m \u001b[38;5;167;01mAttributeError\u001b[39;00m(\u001b[38;5;124m'\u001b[39m\u001b[38;5;124mservice cannot be None\u001b[39m\u001b[38;5;124m'\u001b[39m)\n\u001b[1;32m     89\u001b[0m \u001b[38;5;28mself\u001b[39m\u001b[38;5;241m.\u001b[39mservice \u001b[38;5;241m=\u001b[39m service\n\u001b[0;32m---> 90\u001b[0m \u001b[38;5;28;43mself\u001b[39;49m\u001b[38;5;241;43m.\u001b[39;49m\u001b[43mservice\u001b[49m\u001b[38;5;241;43m.\u001b[39;49m\u001b[43mstart\u001b[49m\u001b[43m(\u001b[49m\u001b[43m)\u001b[49m\n\u001b[1;32m     92\u001b[0m \u001b[38;5;28;01mtry\u001b[39;00m:\n\u001b[1;32m     93\u001b[0m     RemoteWebDriver\u001b[38;5;241m.\u001b[39m\u001b[38;5;21m__init__\u001b[39m(\n\u001b[1;32m     94\u001b[0m         \u001b[38;5;28mself\u001b[39m,\n\u001b[1;32m     95\u001b[0m         command_executor\u001b[38;5;241m=\u001b[39mChromiumRemoteConnection(\n\u001b[0;32m   (...)\u001b[0m\n\u001b[1;32m     98\u001b[0m             keep_alive\u001b[38;5;241m=\u001b[39mkeep_alive, ignore_proxy\u001b[38;5;241m=\u001b[39m_ignore_proxy),\n\u001b[1;32m     99\u001b[0m         options\u001b[38;5;241m=\u001b[39moptions)\n",
      "File \u001b[0;32m/Library/Frameworks/Python.framework/Versions/3.9/lib/python3.9/site-packages/selenium/webdriver/common/service.py:103\u001b[0m, in \u001b[0;36mService.start\u001b[0;34m(self)\u001b[0m\n\u001b[1;32m    100\u001b[0m     \u001b[38;5;28;01mbreak\u001b[39;00m\n\u001b[1;32m    102\u001b[0m count \u001b[38;5;241m+\u001b[39m\u001b[38;5;241m=\u001b[39m \u001b[38;5;241m1\u001b[39m\n\u001b[0;32m--> 103\u001b[0m \u001b[43msleep\u001b[49m\u001b[43m(\u001b[49m\u001b[38;5;241;43m0.5\u001b[39;49m\u001b[43m)\u001b[49m\n\u001b[1;32m    104\u001b[0m \u001b[38;5;28;01mif\u001b[39;00m count \u001b[38;5;241m==\u001b[39m \u001b[38;5;241m60\u001b[39m:\n\u001b[1;32m    105\u001b[0m     \u001b[38;5;28;01mraise\u001b[39;00m WebDriverException(\u001b[38;5;124m\"\u001b[39m\u001b[38;5;124mCan not connect to the Service \u001b[39m\u001b[38;5;132;01m%s\u001b[39;00m\u001b[38;5;124m\"\u001b[39m \u001b[38;5;241m%\u001b[39m \u001b[38;5;28mself\u001b[39m\u001b[38;5;241m.\u001b[39mpath)\n",
      "\u001b[0;31mKeyboardInterrupt\u001b[0m: "
     ]
    }
   ],
   "source": [
    "main()"
   ]
  },
  {
   "cell_type": "markdown",
   "id": "302144fc",
   "metadata": {},
   "source": []
  }
 ],
 "metadata": {
  "kernelspec": {
   "display_name": "Python 3 (ipykernel)",
   "language": "python",
   "name": "python3"
  },
  "language_info": {
   "codemirror_mode": {
    "name": "ipython",
    "version": 3
   },
   "file_extension": ".py",
   "mimetype": "text/x-python",
   "name": "python",
   "nbconvert_exporter": "python",
   "pygments_lexer": "ipython3",
   "version": "3.9.0"
  }
 },
 "nbformat": 4,
 "nbformat_minor": 5
}
