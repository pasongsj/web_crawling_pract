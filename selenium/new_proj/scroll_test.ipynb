{
 "cells": [
  {
   "cell_type": "code",
   "execution_count": 1,
   "id": "341cd73c",
   "metadata": {},
   "outputs": [],
   "source": [
    "from selenium import webdriver\n",
    "from selenium.webdriver.common.by import By\n",
    "import time"
   ]
  },
  {
   "cell_type": "code",
   "execution_count": 2,
   "id": "f55915cc",
   "metadata": {},
   "outputs": [
    {
     "name": "stderr",
     "output_type": "stream",
     "text": [
      "/var/folders/8l/z4qr6xns7sb_mbw_25xwx0cm0000gn/T/ipykernel_5179/2522710900.py:2: DeprecationWarning: executable_path has been deprecated, please pass in a Service object\n",
      "  browser = webdriver.Chrome(\"/usr/local/bin/chromedriver\")\n"
     ]
    },
    {
     "data": {
      "text/plain": [
       "'         \\nprev_height = browser.execute_script(\"return document.body.scrollHeight\")\\nwhile True:\\n    # 스크롤을 화면 가장 아래로 내린다\\n    browser.execute_script(\"window.scrollTo(0,document.body.scrollHeight)\")\\n    # 페이지 로딩 대기\\n    time.sleep(2)\\n    infoList = browser.find_element(By.CSS_SELECTOR,\\'#__next > div.JobList_cn__t_THp > div.JobList_contentWrapper__QiRRW > div > ul\\')\\n    items = infoList.find_elements(By.TAG_NAME, \\'li\\')\\n\\n    # 현재 문서 높이를 가져와서 저장\\n    curr_height = browser.execute_script(\"return document.body.scrollHeight\")\\n\\n    if(curr_height == prev_height or len(items) > NUM ):\\n        break\\n    else:\\n        prev_height = browser.execute_script(\"return document.body.scrollHeight\")\\n'"
      ]
     },
     "execution_count": 2,
     "metadata": {},
     "output_type": "execute_result"
    }
   ],
   "source": [
    "\n",
    "NUM = 100\n",
    "browser = webdriver.Chrome(\"/usr/local/bin/chromedriver\")\n",
    "\n",
    "url = \"https://www.wanted.co.kr/wdlist/518?country=kr&job_sort=job.latest_order&years=0&locations=all\"   \n",
    "browser.get(url);\n",
    "'''\n",
    "g_scroll = 6\n",
    "for i in range(g_scroll):\n",
    "    browser.execute_script(\"window.scrollTo(0, document.body.scrollHeight)\")\n",
    "    infoList = browser.find_element(By.CSS_SELECTOR,'#__next > div.JobList_cn__t_THp > div.JobList_contentWrapper__QiRRW > div > ul')\n",
    "    items = infoList.find_elements(By.TAG_NAME, 'li')\n",
    "    if(len(items) > NUM):\n",
    "        break\n",
    "'''\n",
    "    \n",
    "    \n",
    "                \n",
    "prev_height = browser.execute_script(\"return document.body.scrollHeight\")\n",
    "while True:\n",
    "    browser.execute_script(\"window.scrollTo(0, document.body.scrollHeight)\")\n",
    "    time.sleep(1)\n",
    "    infoList = browser.find_element(By.CSS_SELECTOR,'#__next > div.JobList_cn__t_THp > div.JobList_contentWrapper__QiRRW > div > ul')\n",
    "    items = infoList.find_elements(By.TAG_NAME, 'li')\n",
    "    curr_height = browser.execute_script(\"return document.body.scrollHeight\")\n",
    "    if(len(items)>NUM or curr_height == prev_height):\n",
    "        break\n",
    "    else:\n",
    "        prev_height = browser.execute_script(\"return document.body.scrollHeight\")\n",
    "'''         \n",
    "prev_height = browser.execute_script(\"return document.body.scrollHeight\")\n",
    "while True:\n",
    "    # 스크롤을 화면 가장 아래로 내린다\n",
    "    browser.execute_script(\"window.scrollTo(0,document.body.scrollHeight)\")\n",
    "    # 페이지 로딩 대기\n",
    "    time.sleep(2)\n",
    "    infoList = browser.find_element(By.CSS_SELECTOR,'#__next > div.JobList_cn__t_THp > div.JobList_contentWrapper__QiRRW > div > ul')\n",
    "    items = infoList.find_elements(By.TAG_NAME, 'li')\n",
    "\n",
    "    # 현재 문서 높이를 가져와서 저장\n",
    "    curr_height = browser.execute_script(\"return document.body.scrollHeight\")\n",
    "\n",
    "    if(curr_height == prev_height or len(items) > NUM ):\n",
    "        break\n",
    "    else:\n",
    "        prev_height = browser.execute_script(\"return document.body.scrollHeight\")\n",
    "'''\n",
    "            "
   ]
  },
  {
   "cell_type": "code",
   "execution_count": 5,
   "id": "f0a81e7e",
   "metadata": {},
   "outputs": [],
   "source": [
    "browser.quit()"
   ]
  },
  {
   "cell_type": "code",
   "execution_count": 4,
   "id": "5c2a801e",
   "metadata": {},
   "outputs": [
    {
     "name": "stdout",
     "output_type": "stream",
     "text": [
      "104\n"
     ]
    }
   ],
   "source": [
    "print(len(items))"
   ]
  },
  {
   "cell_type": "code",
   "execution_count": 6,
   "id": "a808a8c0",
   "metadata": {},
   "outputs": [],
   "source": [
    "cate = ['518','958']"
   ]
  },
  {
   "cell_type": "code",
   "execution_count": 7,
   "id": "714b05a4",
   "metadata": {},
   "outputs": [
    {
     "data": {
      "text/plain": [
       "2"
      ]
     },
     "execution_count": 7,
     "metadata": {},
     "output_type": "execute_result"
    }
   ],
   "source": [
    "len(cate)"
   ]
  },
  {
   "cell_type": "code",
   "execution_count": null,
   "id": "3be3671c",
   "metadata": {},
   "outputs": [],
   "source": []
  }
 ],
 "metadata": {
  "kernelspec": {
   "display_name": "Python 3 (ipykernel)",
   "language": "python",
   "name": "python3"
  },
  "language_info": {
   "codemirror_mode": {
    "name": "ipython",
    "version": 3
   },
   "file_extension": ".py",
   "mimetype": "text/x-python",
   "name": "python",
   "nbconvert_exporter": "python",
   "pygments_lexer": "ipython3",
   "version": "3.9.0"
  }
 },
 "nbformat": 4,
 "nbformat_minor": 5
}
