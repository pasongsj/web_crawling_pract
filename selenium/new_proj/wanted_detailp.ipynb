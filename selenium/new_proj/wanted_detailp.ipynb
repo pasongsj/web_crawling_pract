{
 "cells": [
  {
   "cell_type": "code",
   "execution_count": 1,
   "id": "e23fb90e",
   "metadata": {},
   "outputs": [],
   "source": [
    "from selenium import webdriver\n",
    "from selenium.webdriver.common.by import By"
   ]
  },
  {
   "cell_type": "code",
   "execution_count": 2,
   "id": "9de50f57",
   "metadata": {},
   "outputs": [
    {
     "name": "stderr",
     "output_type": "stream",
     "text": [
      "/var/folders/8l/z4qr6xns7sb_mbw_25xwx0cm0000gn/T/ipykernel_11635/1747584078.py:1: DeprecationWarning: executable_path has been deprecated, please pass in a Service object\n",
      "  browser = webdriver.Chrome(\"/usr/local/bin/chromedriver\")\t#chromedriver 위치\n"
     ]
    }
   ],
   "source": [
    "\n",
    "browser = webdriver.Chrome(\"/usr/local/bin/chromedriver\")\t#chromedriver 위치\n",
    "idx = '78698'\n",
    "URL = 'https://www.wanted.co.kr/wd/'+idx\n",
    "browser.get(URL);\t# 페이지 열기\n",
    "browser.implicitly_wait(2)\n"
   ]
  },
  {
   "cell_type": "code",
   "execution_count": 15,
   "id": "fa022514",
   "metadata": {},
   "outputs": [
    {
     "name": "stdout",
     "output_type": "stream",
     "text": [
      "None\n",
      "<selenium.webdriver.remote.webelement.WebElement (session=\"0b40fdf7e21c41c63b6997a344ff9dc3\", element=\"305399c0-6c45-4314-8a6c-e07dce22351b\")>\n"
     ]
    }
   ],
   "source": [
    "'''\n",
    "#제목\n",
    "title = browser.find_element(By.CSS_SELECTOR,'#__next > div.JobDetail_cn__WezJh > div.JobDetail_contentWrapper__DQDB6 > div.JobDetail_relativeWrapper__F9DT5 > div > section.JobHeader_className__HttDA > h2').text\n",
    "\n",
    "#회사명\n",
    "company = browser.find_element(By.CSS_SELECTOR,'#__next > div.JobDetail_cn__WezJh > div.JobDetail_contentWrapper__DQDB6 > div.JobDetail_relativeWrapper__F9DT5 > div > section.JobHeader_className__HttDA > div:nth-child(2) > h6 > a').text\n",
    "\n",
    "#주요업무\n",
    "mainTask = browser.find_element(By.CSS_SELECTOR,'#__next > div.JobDetail_cn__WezJh > div.JobDetail_contentWrapper__DQDB6 > div.JobDetail_relativeWrapper__F9DT5 > div > div.JobContent_descriptionWrapper__SM4UD > section > p:nth-child(3) > span').text\n",
    "\n",
    "#자격요건\n",
    "qualification = browser.find_element(By.CSS_SELECTOR,'#__next > div.JobDetail_cn__WezJh > div.JobDetail_contentWrapper__DQDB6 > div.JobDetail_relativeWrapper__F9DT5 > div > div.JobContent_descriptionWrapper__SM4UD > section > p:nth-child(5)').text\n",
    "  \n",
    "#우대사항\n",
    "prefer = browser.find_element(By.CSS_SELECTOR,'#__next > div.JobDetail_cn__WezJh > div.JobDetail_contentWrapper__DQDB6 > div.JobDetail_relativeWrapper__F9DT5 > div > div.JobContent_descriptionWrapper__SM4UD > section > p:nth-child(7)').text\n",
    "'''\n",
    "\n",
    "#스택\n",
    "\n",
    "stacks = browser.find_element(By.CSS_SELECTOR,'#__NEXT_DATA__').get_attribute('props')\n",
    "print(stacks)\n",
    "stack = browser.find_element(By.XPATH,'//*[@id=\"__NEXT_DATA__\"]')\n",
    "print(stack)\n",
    "\n",
    "\n",
    "\n"
   ]
  },
  {
   "cell_type": "code",
   "execution_count": 5,
   "id": "4c8bac28",
   "metadata": {},
   "outputs": [
    {
     "data": {
      "text/plain": [
       "'\\nresult = requests.get(f\"{URL}\")\\n\\nsoup = BeautifulSoup(result.text, \"html.parser\")\\nprint(soup)\\ntext = soup.find(\"script\",{\"type\":\"user_ai_postion_guide\"})\\nprint(text)\\n#제목\\n#title = soup.find(\"div\",{\"class\":\"company_nm\"}).find(\"a\").string\\n\\n#회사명\\n#company = browser.find_element(By.CSS_SELECTOR,\\'#__next > div.JobDetail_cn__WezJh > div.JobDetail_contentWrapper__DQDB6 > div.JobDetail_relativeWrapper__F9DT5 > div > section.JobHeader_className__HttDA > div:nth-child(2) > h6 > a\\').text\\n\\n#주요업무\\n#mainTask = browser.find_element(By.CSS_SELECTOR,\\'#__next > div.JobDetail_cn__WezJh > div.JobDetail_contentWrapper__DQDB6 > div.JobDetail_relativeWrapper__F9DT5 > div > div.JobContent_descriptionWrapper__SM4UD > section > p:nth-child(3) > span\\').text\\n\\n#자격요건\\n#qualification = browser.find_element(By.CSS_SELECTOR,\\'#__next > div.JobDetail_cn__WezJh > div.JobDetail_contentWrapper__DQDB6 > div.JobDetail_relativeWrapper__F9DT5 > div > div.JobContent_descriptionWrapper__SM4UD > section > p:nth-child(5)\\').text\\n  \\n#우대사항\\n#prefer = browser.find_element(By.CSS_SELECTOR,\\'#__next > div.JobDetail_cn__WezJh > div.JobDetail_contentWrapper__DQDB6 > div.JobDetail_relativeWrapper__F9DT5 > div > div.JobContent_descriptionWrapper__SM4UD > section > p:nth-child(7)\\').text\\n\\n\\n#스택\\n    '"
      ]
     },
     "execution_count": 5,
     "metadata": {},
     "output_type": "execute_result"
    }
   ],
   "source": [
    "'''\n",
    "import requests\n",
    "from bs4 import BeautifulSoup\n",
    "idx = '78698'\n",
    "URL = 'https://www.wanted.co.kr/wd/'+idx\n",
    "result = requests.get(f\"{URL}\")\n",
    "\n",
    "soup = BeautifulSoup(result.text, \"html.parser\")\n",
    "print(soup)\n",
    "text = soup.find(\"script\",{\"type\":\"user_ai_postion_guide\"})\n",
    "print(text)\n",
    "#제목\n",
    "#title = soup.find(\"div\",{\"class\":\"company_nm\"}).find(\"a\").string\n",
    "\n",
    "#회사명\n",
    "#company = browser.find_element(By.CSS_SELECTOR,'#__next > div.JobDetail_cn__WezJh > div.JobDetail_contentWrapper__DQDB6 > div.JobDetail_relativeWrapper__F9DT5 > div > section.JobHeader_className__HttDA > div:nth-child(2) > h6 > a').text\n",
    "\n",
    "#주요업무\n",
    "#mainTask = browser.find_element(By.CSS_SELECTOR,'#__next > div.JobDetail_cn__WezJh > div.JobDetail_contentWrapper__DQDB6 > div.JobDetail_relativeWrapper__F9DT5 > div > div.JobContent_descriptionWrapper__SM4UD > section > p:nth-child(3) > span').text\n",
    "\n",
    "#자격요건\n",
    "#qualification = browser.find_element(By.CSS_SELECTOR,'#__next > div.JobDetail_cn__WezJh > div.JobDetail_contentWrapper__DQDB6 > div.JobDetail_relativeWrapper__F9DT5 > div > div.JobContent_descriptionWrapper__SM4UD > section > p:nth-child(5)').text\n",
    "  \n",
    "#우대사항\n",
    "#prefer = browser.find_element(By.CSS_SELECTOR,'#__next > div.JobDetail_cn__WezJh > div.JobDetail_contentWrapper__DQDB6 > div.JobDetail_relativeWrapper__F9DT5 > div > div.JobContent_descriptionWrapper__SM4UD > section > p:nth-child(7)').text\n",
    "\n",
    "\n",
    "#스택\n",
    "    '''"
   ]
  },
  {
   "cell_type": "code",
   "execution_count": 6,
   "id": "70a7554d",
   "metadata": {
    "scrolled": true
   },
   "outputs": [],
   "source": [
    "#for info in infos:\n",
    "#    print(info)"
   ]
  },
  {
   "cell_type": "code",
   "execution_count": null,
   "id": "13f10099",
   "metadata": {},
   "outputs": [],
   "source": []
  }
 ],
 "metadata": {
  "kernelspec": {
   "display_name": "Python 3 (ipykernel)",
   "language": "python",
   "name": "python3"
  },
  "language_info": {
   "codemirror_mode": {
    "name": "ipython",
    "version": 3
   },
   "file_extension": ".py",
   "mimetype": "text/x-python",
   "name": "python",
   "nbconvert_exporter": "python",
   "pygments_lexer": "ipython3",
   "version": "3.9.0"
  }
 },
 "nbformat": 4,
 "nbformat_minor": 5
}
